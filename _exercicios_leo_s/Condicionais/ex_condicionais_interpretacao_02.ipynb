{
 "cells": [
  {
   "cell_type": "markdown",
   "metadata": {},
   "source": [
    "### Exercício 1: Interpretação de Código - Verificação de Faixa Etária\n",
    "\n",
    "**Código:**\n",
    "```python\n",
    "idade = int(input(\"Digite sua idade: \"))\n",
    "\n",
    "if idade < 12:\n",
    "    print(\"Criança\")\n",
    "elif idade < 18:\n",
    "    print(\"Adolescente\")\n",
    "elif idade < 60:\n",
    "    print(\"Adulto\")\n",
    "else:\n",
    "    print(\"Idoso\")\n",
    "```\n",
    "\n",
    "**Instruções:**\n",
    "1. Explique o que o código faz.\n",
    "2. Dê exemplos de entrada e saída.\n",
    "3. Modifique o código para incluir uma nova faixa etária \"Jovem Adulto\" para idades entre 18 e 25 anos.\n",
    "\n",
    "O código pede a entrada de um número inteiro e, conforme o número, imprime a faixa etária da pessoa.\n",
    "Se digitado 10, irá mostrar \"Criança\". Se digitado 66, mostrará \"Idoso\".\n"
   ]
  },
  {
   "cell_type": "code",
   "execution_count": 4,
   "metadata": {},
   "outputs": [
    {
     "name": "stdout",
     "output_type": "stream",
     "text": [
      "Adolescente\n"
     ]
    }
   ],
   "source": [
    "idade = int(input(\"Digite sua idade: \"))\n",
    "\n",
    "if idade < 12:\n",
    "    print(\"Criança\")\n",
    "elif idade < 18:\n",
    "    print(\"Adolescente\")\n",
    "elif idade < 25:\n",
    "    print(\"Jovem adulto\")\n",
    "elif idade < 60:\n",
    "    print(\"Adulto\")\n",
    "else:\n",
    "    print(\"Idoso\")"
   ]
  },
  {
   "cell_type": "markdown",
   "metadata": {},
   "source": [
    "### Exercício 2: Interpretação de Código - Verificação de Nota com Mensagem Personalizada\n",
    "\n",
    "**Código:**\n",
    "```python\n",
    "nota = float(input(\"Digite a nota do aluno: \"))\n",
    "\n",
    "if nota >= 9:\n",
    "    print(\"Excelente\")\n",
    "elif nota >= 7:\n",
    "    print(\"Bom\")\n",
    "elif nota >= 5:\n",
    "    print(\"Regular\")\n",
    "else:\n",
    "    print(\"Insuficiente\")\n",
    "```\n",
    "\n",
    "**Instruções:**\n",
    "1. Explique o que o código faz.\n",
    "2. Dê exemplos de entrada e saída.\n",
    "3. Modifique o código para incluir uma nova categoria \"Muito Bom\" para notas entre 8 e 9.\n",
    "\n",
    "O código solicita a entrada de um número float para verificar a nota do aluno e imprimir a mensagem.\n",
    "Entrada: 9. Saída: \"Excelente\".\n",
    "Entrada: 6.5. Saída:\" Regular\".\n",
    "\n"
   ]
  },
  {
   "cell_type": "code",
   "execution_count": 7,
   "metadata": {},
   "outputs": [
    {
     "name": "stdout",
     "output_type": "stream",
     "text": [
      "Insuficiente\n"
     ]
    }
   ],
   "source": [
    "nota = float(input(\"Digite a nota do aluno: \"))\n",
    "\n",
    "if nota >= 9:\n",
    "    print(\"Excelente\")\n",
    "elif nota >= 8:\n",
    "    print(\"Muito bom!\")\n",
    "elif nota >= 7:\n",
    "    print(\"Bom\")\n",
    "elif nota >= 5:\n",
    "    print(\"Regular\")\n",
    "else:\n",
    "    print(\"Insuficiente\")"
   ]
  },
  {
   "cell_type": "markdown",
   "metadata": {},
   "source": [
    "### Exercício 3: Interpretação de Código - Verificação de Categoria de Produto\n",
    "\n",
    "**Código:**\n",
    "```python\n",
    "categoria = input(\"Digite a categoria do produto (A, B ou C): \")\n",
    "\n",
    "if categoria == \"A\":\n",
    "    print(\"Produto de alta qualidade\")\n",
    "elif categoria == \"B\":\n",
    "    print(\"Produto de qualidade média\")\n",
    "elif categoria == \"C\":\n",
    "    print(\"Produto de baixa qualidade\")\n",
    "else:\n",
    "    print(\"Categoria inválida\")\n",
    "```\n",
    "\n",
    "**Instruções:**\n",
    "1. Explique o que o código faz.\n",
    "2. Dê exemplos de entrada e saída.\n",
    "3. Modifique o código para incluir uma nova categoria \"D\" para produtos de qualidade premium.\n",
    "\n",
    "O código pede para inserir a categoria do produto e mostra a qualidade dele.\n",
    "Entrada: A, saída \"Produto de alta qualidade\".\n"
   ]
  },
  {
   "cell_type": "code",
   "execution_count": 10,
   "metadata": {},
   "outputs": [
    {
     "name": "stdout",
     "output_type": "stream",
     "text": [
      "Produto de alta qualidade\n"
     ]
    }
   ],
   "source": [
    "categoria = input(\"Digite a categoria do produto (A, B ou C): \")\n",
    "\n",
    "if categoria == \"A\":\n",
    "    print(\"Produto de alta qualidade\")\n",
    "elif categoria == \"B\":\n",
    "    print(\"Produto de qualidade média\")\n",
    "elif categoria == \"C\":\n",
    "    print(\"Produto de baixa qualidade\")\n",
    "elif categoria == \"D\":\n",
    "    print(\"Produto de qualidade premium\")\n",
    "else:\n",
    "    print(\"Categoria inválida\")"
   ]
  },
  {
   "cell_type": "markdown",
   "metadata": {},
   "source": [
    "### Exercício 4: Interpretação de Código - Verificação de Temperatura\n",
    "\n",
    "**Código:**\n",
    "```python\n",
    "temperatura = float(input(\"Digite a temperatura em graus Celsius: \"))\n",
    "\n",
    "if temperatura < 0:\n",
    "    print(\"Congelante\")\n",
    "elif temperatura < 15:\n",
    "    print(\"Frio\")\n",
    "elif temperatura < 25:\n",
    "    print(\"Agradável\")\n",
    "elif temperatura < 35:\n",
    "    print(\"Quente\")\n",
    "else:\n",
    "    print(\"Muito quente\")\n",
    "```\n",
    "\n",
    "**Instruções:**\n",
    "1. Explique o que o código faz.\n",
    "2. Dê exemplos de entrada e saída.\n",
    "3. Modifique o código para incluir uma nova categoria \"Extremamente quente\" para temperaturas acima de 40 graus.\n",
    "\n",
    "O código solicita a entrada de uma temperatura em graus celsius e mostra uma frase conforme a temperatura. Se digitada uma temperatura baixa, mostrará \"Congelante\", por exemplo.\n",
    "\n"
   ]
  },
  {
   "cell_type": "code",
   "execution_count": 11,
   "metadata": {},
   "outputs": [
    {
     "name": "stdout",
     "output_type": "stream",
     "text": [
      "Extremamente quente\n"
     ]
    }
   ],
   "source": [
    "temperatura = float(input(\"Digite a temperatura em graus Celsius: \"))\n",
    "\n",
    "if temperatura < 0:\n",
    "    print(\"Congelante\")\n",
    "elif temperatura < 15:\n",
    "    print(\"Frio\")\n",
    "elif temperatura < 25:\n",
    "    print(\"Agradável\")\n",
    "elif temperatura < 35:\n",
    "    print(\"Quente\")\n",
    "elif temperatura >= 40:\n",
    "    print(\"Extremamente quente\")\n",
    "else:\n",
    "    print(\"Muito quente\")"
   ]
  },
  {
   "cell_type": "markdown",
   "metadata": {},
   "source": [
    "### Exercício 5: Interpretação de Código - Verificação de Login\n",
    "\n",
    "**Código:**\n",
    "```python\n",
    "usuario = input(\"Digite o nome de usuário: \")\n",
    "senha = input(\"Digite a senha: \")\n",
    "\n",
    "if usuario == \"admin\" and senha == \"1234\":\n",
    "    print(\"Login bem-sucedido\")\n",
    "else:\n",
    "    print(\"Usuário ou senha incorretos\")\n",
    "```\n",
    "\n",
    "**Instruções:**\n",
    "1. Explique o que o código faz.\n",
    "2. Dê exemplos de entrada e saída.\n",
    "3. Modifique o código para incluir uma mensagem específica para quando o nome de usuário estiver correto, mas a senha estiver errada.\n",
    "\n",
    "O código está programado para entender o usuário como \"admin\" e a senha como \"1234\". Caso seja digitado algo diferente, o código mostrará que está incorreto."
   ]
  },
  {
   "cell_type": "code",
   "execution_count": 12,
   "metadata": {},
   "outputs": [
    {
     "name": "stdout",
     "output_type": "stream",
     "text": [
      "Usuário correto, senha incorreta\n"
     ]
    }
   ],
   "source": [
    "usuario = input(\"Digite o nome de usuário: \")\n",
    "senha = input(\"Digite a senha: \")\n",
    "\n",
    "if usuario == \"admin\" and senha == \"1234\":\n",
    "    print(\"Login bem-sucedido\")\n",
    "elif usuario == \"admin\" and senha != \"1234\":\n",
    "    print(\"Usuário correto, senha incorreta\")\n",
    "else:\n",
    "    print(\"Usuário ou senha incorretos\")"
   ]
  }
 ],
 "metadata": {
  "kernelspec": {
   "display_name": "Python 3",
   "language": "python",
   "name": "python3"
  },
  "language_info": {
   "codemirror_mode": {
    "name": "ipython",
    "version": 3
   },
   "file_extension": ".py",
   "mimetype": "text/x-python",
   "name": "python",
   "nbconvert_exporter": "python",
   "pygments_lexer": "ipython3",
   "version": "3.13.2"
  }
 },
 "nbformat": 4,
 "nbformat_minor": 2
}
