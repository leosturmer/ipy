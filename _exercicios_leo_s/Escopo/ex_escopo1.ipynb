{
 "cells": [
  {
   "cell_type": "markdown",
   "id": "4f7b03d8",
   "metadata": {},
   "source": [
    "##  Escopo de Variáveis - Exercícios de Leitura de Código I"
   ]
  },
  {
   "cell_type": "markdown",
   "id": "f5a3b776",
   "metadata": {},
   "source": [
    "1. Leia o código abaixo e determine o valor de `x` após a execução do programa:\n",
    "```python\n",
    "\n",
    "x = 10\n",
    "\n",
    "def funcao():\n",
    "    x = 5\n",
    "    \n",
    "funcao()\n",
    "print(x)\n",
    "```\n",
    "\n",
    "x = 10 -> o valor de \"x\" foi definido fora da função, por isso esse valor. Dentro da função, ele tem o valor de 5.\n"
   ]
  },
  {
   "cell_type": "markdown",
   "id": "6a38729c",
   "metadata": {},
   "source": [
    "2. Qual será a saída do seguinte código?\n",
    "\n",
    "```python\n",
    "x = 10\n",
    "\n",
    "def funcao():\n",
    "    global x\n",
    "    x = 5\n",
    "\n",
    "funcao()\n",
    "print(x)\n",
    "\n",
    "```\n",
    "\n",
    "x = 5 -> dentro da função, a variável foi definida como 5. Como o \"global\" puxa o termo de fora da função para dentro, ele foi modificado, mostrando o 5.\n",
    "\n"
   ]
  },
  {
   "cell_type": "markdown",
   "id": "c1a72d07",
   "metadata": {},
   "source": [
    "3. O que acontece ao executar o código abaixo?\n",
    "\n",
    "```python\n",
    "x = 10\n",
    "\n",
    "def funcao():\n",
    "    print(x)\n",
    "\n",
    "funcao()\n",
    "```\n",
    "\n",
    "O código irá imprimir o valor de X, neste caso \"10\". "
   ]
  },
  {
   "cell_type": "markdown",
   "id": "bb698f45",
   "metadata": {},
   "source": [
    "4. Qual será a saída do seguinte código?\n",
    "\n",
    "```python\n",
    "\n",
    "x = 10\n",
    "\n",
    "def funcao():\n",
    "    x = 5\n",
    "    print(x)\n",
    "\n",
    "funcao()\n",
    "print(x)\n",
    "```\n",
    "\n",
    "O código irá mostrar o valor de X na função e depois X fora da função:\n",
    "\n",
    "5\n",
    "10\n"
   ]
  },
  {
   "cell_type": "markdown",
   "id": "8abb333a",
   "metadata": {},
   "source": [
    "5. Leia o código abaixo e determine o valor de `y` após a execução do programa:\n",
    "\n",
    "```python\n",
    "\n",
    "def funcao():\n",
    "    y = 5\n",
    "\n",
    "funcao()\n",
    "print(y)\n",
    "```\n",
    "\n",
    "O programa dará erro. O valor de y é definido apenas dentro da função e solicitado para imprimir fora dela."
   ]
  },
  {
   "cell_type": "markdown",
   "id": "ec7404e7",
   "metadata": {},
   "source": [
    "6. Qual será a saída do seguinte código?\n",
    "\n",
    "```python\n",
    "\n",
    "x = 10\n",
    "\n",
    "def funcao():\n",
    "    x = x + 1\n",
    "\n",
    "funcao()\n",
    "```\n",
    "\n",
    "O programa define o valor de x como 10 fora da função. Dentro da função, o valor de x é x + 1, ou seja, não foi definido como número. Dará erro.\n"
   ]
  },
  {
   "cell_type": "markdown",
   "id": "3b2e9b86",
   "metadata": {},
   "source": [
    "7. O que acontece ao executar o código abaixo?\n",
    "\n",
    "```python\n",
    "\n",
    "x = 10\n",
    "\n",
    "def funcao():\n",
    "    global x\n",
    "    x += 1\n",
    "\n",
    "funcao()\n",
    "print(x)\n",
    "```\n",
    "\n",
    "O programa define x como 10 fora da função. Dentro da função, ele chama a variável global x (neste caso, 10) e soma com 1. Ao final, ele imprime o valor da função: 11\n",
    "\n"
   ]
  }
 ],
 "metadata": {
  "kernelspec": {
   "display_name": "Python 3",
   "language": "python",
   "name": "python3"
  },
  "language_info": {
   "codemirror_mode": {
    "name": "ipython",
    "version": 3
   },
   "file_extension": ".py",
   "mimetype": "text/x-python",
   "name": "python",
   "nbconvert_exporter": "python",
   "pygments_lexer": "ipython3",
   "version": "3.13.2"
  }
 },
 "nbformat": 4,
 "nbformat_minor": 5
}
