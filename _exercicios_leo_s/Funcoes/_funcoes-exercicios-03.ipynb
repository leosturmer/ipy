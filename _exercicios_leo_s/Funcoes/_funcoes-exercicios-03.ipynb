{
 "cells": [
  {
   "cell_type": "markdown",
   "metadata": {},
   "source": [
    "# Exercícios sobre o Uso do Valor de Resposta de Funções\n",
    "\n",
    "Os exercícios abaixo têm como objetivo treinar o uso do valor de retorno de funções para realizar operações novas usando eles."
   ]
  },
  {
   "cell_type": "markdown",
   "metadata": {},
   "source": [
    "## Exercício 1\n",
    "\n",
    "Dada a função abaixo, escreva um programa que use o valor de retorno para calcular o dobro da soma de dois números.\n"
   ]
  },
  {
   "cell_type": "code",
   "execution_count": 2,
   "id": "10fe270a",
   "metadata": {},
   "outputs": [],
   "source": [
    "def soma(a, b):\n",
    "    return a + b"
   ]
  },
  {
   "cell_type": "markdown",
   "id": "8785664a",
   "metadata": {},
   "source": [
    "sua resposta:"
   ]
  },
  {
   "cell_type": "code",
   "execution_count": 3,
   "id": "39a7b798",
   "metadata": {},
   "outputs": [
    {
     "name": "stdout",
     "output_type": "stream",
     "text": [
      "10\n"
     ]
    }
   ],
   "source": [
    "calculo_soma = soma(3, 2)\n",
    "dobro_soma = calculo_soma *2\n",
    "\n",
    "print(dobro_soma)"
   ]
  },
  {
   "cell_type": "markdown",
   "id": "02aeab2d",
   "metadata": {},
   "source": [
    "dar um nome à nova função"
   ]
  },
  {
   "cell_type": "code",
   "execution_count": 4,
   "id": "d7dcf295",
   "metadata": {},
   "outputs": [],
   "source": [
    "def dobro_da_soma():\n",
    "    soma_de_dois = soma(3, 5)\n",
    "    dobro_da_soma = 2 * soma_de_dois\n",
    "    print(dobro_da_soma)"
   ]
  },
  {
   "cell_type": "markdown",
   "id": "1ced5418",
   "metadata": {},
   "source": [
    "generalizar a função"
   ]
  },
  {
   "cell_type": "markdown",
   "id": "3d19fd3f",
   "metadata": {},
   "source": [
    "uso:"
   ]
  },
  {
   "cell_type": "code",
   "execution_count": null,
   "id": "31d2bdfd",
   "metadata": {},
   "outputs": [],
   "source": []
  },
  {
   "cell_type": "markdown",
   "id": "da642ccd",
   "metadata": {},
   "source": [
    "## Exercício 2\n",
    "\n",
    "Dada a função abaixo, escreva um programa que use o valor de retorno para verificar se o maior número de uma lista é par ou ímpar."
   ]
  },
  {
   "cell_type": "code",
   "execution_count": 22,
   "id": "1f282472",
   "metadata": {},
   "outputs": [],
   "source": [
    "def maior(lista):\n",
    "    return max(lista)"
   ]
  },
  {
   "cell_type": "markdown",
   "id": "00d2524a",
   "metadata": {},
   "source": [
    "sua resposta:"
   ]
  },
  {
   "cell_type": "code",
   "execution_count": 23,
   "id": "16cfc1f2",
   "metadata": {},
   "outputs": [
    {
     "name": "stdout",
     "output_type": "stream",
     "text": [
      "O número 215 é ímpar\n"
     ]
    }
   ],
   "source": [
    "maior_numero_da_lista = maior([1, 2, 5, 10, 20, 215])\n",
    "\n",
    "if maior_numero_da_lista %2 == 0:\n",
    "    print(f\"O número {maior_numero_da_lista} é par\")\n",
    "else:\n",
    "    print(f\"O número {maior_numero_da_lista} é ímpar\")\n"
   ]
  },
  {
   "cell_type": "code",
   "execution_count": 26,
   "id": "a7c8ae22",
   "metadata": {},
   "outputs": [
    {
     "name": "stdout",
     "output_type": "stream",
     "text": [
      "Produto mais caro custa: 130099.99\n"
     ]
    }
   ],
   "source": [
    "valores_produtos = [3.5, 45.1, 1_300_99.99, 12.5]\n",
    "\n",
    "print(f'Produto mais caro custa: {maior(valores_produtos)}')"
   ]
  },
  {
   "cell_type": "markdown",
   "id": "070daeb6",
   "metadata": {},
   "source": [
    "## Exercício 3\n",
    "\n",
    "Dada a função abaixo, escreva um programa que use o valor de retorno para contar quantas letras maiúsculas existem em uma string convertida para maiúsculas."
   ]
  },
  {
   "cell_type": "code",
   "execution_count": 11,
   "id": "4631e7fe",
   "metadata": {},
   "outputs": [],
   "source": [
    "def para_maiusculas(texto):\n",
    "    return texto.upper()"
   ]
  },
  {
   "cell_type": "markdown",
   "id": "73b0e1bc",
   "metadata": {},
   "source": [
    "sua resposta:"
   ]
  },
  {
   "cell_type": "code",
   "execution_count": 28,
   "id": "e95eb3e9",
   "metadata": {},
   "outputs": [
    {
     "name": "stdout",
     "output_type": "stream",
     "text": [
      "Quantidade de letras maiúsculas na palavra: 7\n"
     ]
    },
    {
     "data": {
      "text/plain": [
       "45"
      ]
     },
     "execution_count": 28,
     "metadata": {},
     "output_type": "execute_result"
    }
   ],
   "source": [
    "\n",
    "palavra_maiscula = para_maiusculas(\"abacaxi\")\n",
    "\n",
    "print(f\"Quantidade de letras maiúsculas na palavra: {len(palavra_maiscula)}\")\n",
    "\n",
    "uma_string = \"aqui tem uma longa strnig de palavras lalalal\"\n",
    "len(para_maiusculas(uma_string))"
   ]
  },
  {
   "cell_type": "markdown",
   "id": "fe529be9",
   "metadata": {},
   "source": [
    "## Exercício 4\n",
    "\n",
    "Dada a função abaixo, escreva um programa que use o valor de retorno para calcular a soma dos quadrados de dois números.\n"
   ]
  },
  {
   "cell_type": "code",
   "execution_count": 15,
   "id": "d2df6024",
   "metadata": {},
   "outputs": [],
   "source": [
    "def quadrado(n):\n",
    "    return n ** 2"
   ]
  },
  {
   "cell_type": "markdown",
   "id": "9c1d6848",
   "metadata": {},
   "source": [
    "sua resposta:"
   ]
  },
  {
   "cell_type": "code",
   "execution_count": 16,
   "id": "1d8872dd",
   "metadata": {},
   "outputs": [
    {
     "name": "stdout",
     "output_type": "stream",
     "text": [
      "20\n"
     ]
    }
   ],
   "source": [
    "quadrado1 = quadrado(4)\n",
    "quadrado2 = quadrado(2)\n",
    "\n",
    "soma_quadrados = quadrado1 + quadrado2\n",
    "\n",
    "print(soma_quadrados)"
   ]
  },
  {
   "cell_type": "code",
   "execution_count": 29,
   "id": "ad5cf685",
   "metadata": {},
   "outputs": [
    {
     "name": "stdout",
     "output_type": "stream",
     "text": [
      "20\n"
     ]
    }
   ],
   "source": [
    "soma_quadrados = quadrado(4) + quadrado(2)\n",
    "print(soma_quadrados)"
   ]
  },
  {
   "cell_type": "code",
   "execution_count": 30,
   "id": "a57525b3",
   "metadata": {},
   "outputs": [
    {
     "name": "stdout",
     "output_type": "stream",
     "text": [
      "20\n"
     ]
    }
   ],
   "source": [
    "print(quadrado(4) + quadrado(2))"
   ]
  },
  {
   "cell_type": "code",
   "execution_count": 31,
   "id": "abcafdb1",
   "metadata": {},
   "outputs": [
    {
     "name": "stdout",
     "output_type": "stream",
     "text": [
      "20\n"
     ]
    }
   ],
   "source": [
    "print(\n",
    "    quadrado(4)\n",
    "    +\n",
    "    quadrado(2)\n",
    ")"
   ]
  },
  {
   "cell_type": "markdown",
   "id": "71ebd6ad",
   "metadata": {},
   "source": [
    "## Exercício 5\n",
    "\n",
    "Dada a função abaixo, escreva um programa que use o valor de retorno para calcular a área de um triângulo e verificar se ela é maior que 50."
   ]
  },
  {
   "cell_type": "code",
   "execution_count": 18,
   "id": "291f60a6",
   "metadata": {},
   "outputs": [],
   "source": [
    "def area_triangulo(base, altura):\n",
    "    return 0.5 * base * altura"
   ]
  },
  {
   "cell_type": "markdown",
   "id": "4d1b75f0",
   "metadata": {},
   "source": [
    "sua resposta:"
   ]
  },
  {
   "cell_type": "code",
   "execution_count": 33,
   "id": "7d97563e",
   "metadata": {},
   "outputs": [
    {
     "name": "stdout",
     "output_type": "stream",
     "text": [
      "A área é maior do que 50\n"
     ]
    }
   ],
   "source": [
    "valor_area_triangulo = area_triangulo(10, 20)\n",
    "\n",
    "if valor_area_triangulo > 50:\n",
    "    print(\"A área é maior do que 50\")\n",
    "else:\n",
    "    print(\"A área é menor do que 50\")\n"
   ]
  },
  {
   "cell_type": "code",
   "execution_count": 34,
   "id": "8083ee83",
   "metadata": {},
   "outputs": [
    {
     "name": "stdout",
     "output_type": "stream",
     "text": [
      "A área é maior do que 50\n"
     ]
    }
   ],
   "source": [
    "if area_triangulo(10, 20) > 50:\n",
    "    print(\"A área é maior do que 50\")\n",
    "else:\n",
    "    print(\"A área é menor do que 50\")\n"
   ]
  }
 ],
 "metadata": {
  "kernelspec": {
   "display_name": "Python 3",
   "language": "python",
   "name": "python3"
  },
  "language_info": {
   "codemirror_mode": {
    "name": "ipython",
    "version": 3
   },
   "file_extension": ".py",
   "mimetype": "text/x-python",
   "name": "python",
   "nbconvert_exporter": "python",
   "pygments_lexer": "ipython3",
   "version": "3.13.2"
  }
 },
 "nbformat": 4,
 "nbformat_minor": 5
}
