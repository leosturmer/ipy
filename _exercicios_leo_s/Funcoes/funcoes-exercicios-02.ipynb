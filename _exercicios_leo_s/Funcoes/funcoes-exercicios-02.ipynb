{
 "cells": [
  {
   "cell_type": "markdown",
   "metadata": {},
   "source": [
    "# Exercícios sobre Funções com Loops e Condicionais\n",
    "\n",
    "Dê nomes para as funções abaixo"
   ]
  },
  {
   "cell_type": "code",
   "execution_count": null,
   "metadata": {},
   "outputs": [],
   "source": [
    "# Exercício 1\n",
    "def x(lista):\n",
    "    quantidade = 0\n",
    "    for v in lista:\n",
    "        if v % 2 == 0:\n",
    "            quantidade = quantidade + 1\n",
    "    return quantidade\n",
    "\n",
    "# Exemplo de uso\n",
    "\n",
    "r = x([1,1,2,10,4,5])\n",
    "print(r)\n",
    "\n",
    "## A função define uma quantidade inicial como 0. Ao ativar a função, ele pega os números da lista e vê se são divisíveis por 2 (pares). Se for pares, a quantidade vai adicionando 1 a 1 por vez e, ao final, retorna a quantidade. Ao final, o programa cria uma lista e chama a função. \n",
    "\n",
    "## A resposta seria 3.\n",
    "\n",
    "## A função poderia se chamar \"verificar_a_quantidade_de_números_pares\"."
   ]
  },
  {
   "cell_type": "code",
   "execution_count": null,
   "metadata": {},
   "outputs": [],
   "source": [
    "# Exercício 2\n",
    "def x(lista):\n",
    "    soma = 0\n",
    "    for n in lista:\n",
    "        if n > 0:\n",
    "            soma = soma + n\n",
    "        \n",
    "    return soma\n",
    "\n",
    "# Exemplo de uso\n",
    "\n",
    "r = x([1,1,2,10,4,5])\n",
    "print(r)\n",
    "\n",
    "## A função começa com soma = 0 e, cada vez que passa por um número da lista, verifica se o número é maior do que 0. Se o número for maior, ele adiciona o número na soma. Ao final, o programa cria uma lista e soma os valores.\n",
    "\n",
    "## O resultado será 23.\n",
    "\n",
    "## A função poderia se chamar \"somando_os_números_da_lista\""
   ]
  },
  {
   "cell_type": "code",
   "execution_count": null,
   "metadata": {},
   "outputs": [],
   "source": [
    "# Exercício 3\n",
    "def x(lista):\n",
    "    minimo = lista[0]\n",
    "    for x in lista:\n",
    "        if x < minimo:\n",
    "            minimo = x\n",
    "    return minimo\n",
    "\n",
    "#Exemplo de uso\n",
    "\n",
    "r = x([1,1,2,10,4,5])\n",
    "print(r)\n",
    "\n",
    "## A função analisa uma lista. Uma variável lista é uma lista na posição 0. Ele faz um loop verificando cada item da lista. Se o item da lista for menor que o mínimo (número 1), o mínimo vira o número. Como o número 1 é o menor da lista, no final ele vai imprimir o número 1.\n",
    "\n",
    "## Verificando_o_menor_numero_da_lista"
   ]
  },
  {
   "cell_type": "code",
   "execution_count": null,
   "metadata": {},
   "outputs": [],
   "source": [
    "# Exercício 4\n",
    "def x(texto):\n",
    "    vogais = 'aeiouAEIOU'\n",
    "    numero = 0\n",
    "    for letra in texto:\n",
    "        if letra in vogais:\n",
    "            numero = numero + 1\n",
    "    return numero\n",
    "\n",
    "# Exemplo de uso\n",
    "\n",
    "r = x(\"Oi, oi, oi!!!\")\n",
    "print(r)\n",
    "\n",
    "## A função verifica um texto. Ela começa criando as vogais em maiúsculo e minúsculo (em forma de string) e o número é 0. Depois, ele faz um loop para verificar se as vogais estão no texto e conta uantas vogais tem. No final, verifica \"oi, oi, oi\" e resulta em 6.\n",
    "\n",
    "## A função pode se chamar \"Contando_o_numero_de_vogais\""
   ]
  },
  {
   "cell_type": "code",
   "execution_count": null,
   "metadata": {},
   "outputs": [],
   "source": [
    "# Exercício 5\n",
    "def x(lista):\n",
    "    m = ''\n",
    "    for palavra in lista:\n",
    "        if len(palavra) > len(m):\n",
    "            m = palavra\n",
    "    return m\n",
    "\n",
    "r = x([\n",
    "    'uva',\n",
    "    'chiclete',\n",
    "    'biscoitos',\n",
    "    'programação',\n",
    "    'xixo',\n",
    "    'amendoim'\n",
    "])\n",
    "print(r)\n",
    "\n",
    "\n",
    "## A função verifica uma lista. O M começa como string vazia. Depois, há um loop verificado cada palavra na lista. Se a quantidade de caracteres da palavra foi maior do que o número de caracteres de M, o M recebe a palavra. Ou seja, vai imprimir a maior palavra. Vai ser \"programação\".\n",
    "\n",
    "## A função poderia se chamar \"verificando_a_maior_palavra\""
   ]
  }
 ],
 "metadata": {
  "kernelspec": {
   "display_name": "Python 3",
   "language": "python",
   "name": "python3"
  },
  "language_info": {
   "codemirror_mode": {
    "name": "ipython",
    "version": 3
   },
   "file_extension": ".py",
   "mimetype": "text/x-python",
   "name": "python",
   "nbconvert_exporter": "python",
   "pygments_lexer": "ipython3",
   "version": "3.13.2"
  }
 },
 "nbformat": 4,
 "nbformat_minor": 5
}
