{
 "cells": [
  {
   "cell_type": "markdown",
   "id": "8e802822",
   "metadata": {},
   "source": [
    "### Exercício 1: Substituição de Variáveis\n",
    "\n",
    "Analise o código abaixo e determine o valor das variáveis `a`, `b` e `c` após a execução do código.\n",
    "\n",
    "```python\n",
    "a = 10\n",
    "b = 5\n",
    "c = a + b\n",
    "\n",
    "a = 20\n",
    "b = a - b\n",
    "c = c + a\n",
    "```\n",
    "\n",
    "1. Qual é o valor de `a` após a execução do código? 20\n",
    "2. Qual é o valor de `b` após a execução do código? 15\n",
    "3. Qual é o valor de `c` após a execução do código? 35"
   ]
  },
  {
   "cell_type": "markdown",
   "id": "04dcc4e3",
   "metadata": {},
   "source": [
    "### Exercício 2: Interpolação de Valores em Strings\n",
    "\n",
    "Analise o código abaixo e determine a saída impressa no console.\n",
    "\n",
    "```python\n",
    "nome = \"Alice\"\n",
    "idade = 30\n",
    "peso = 65.5\n",
    "\n",
    "saudacao = \"Olá, \" + nome + \"! Você tem \" + str(idade) + \" anos e pesa \" + str(peso) + \" kg.\"\n",
    "print(saudacao)\n",
    "\n",
    "saudacao_fstring = f\"Olá, {nome}! Você tem {idade} anos e pesa {peso} kg.\"\n",
    "print(saudacao_fstring)\n",
    "```\n",
    "\n",
    "1. Qual é a saída impressa pela primeira instrução `print(saudacao)`? Olá, Alice! Você tem 30 anos e pesa 65.5 kg.\n",
    "2. Qual é a saída impressa pela segunda instrução `print(saudacao_fstring)`? Olá, Alice! Você tem 30 anos e pesa 65.5 kg.\n"
   ]
  },
  {
   "cell_type": "markdown",
   "id": "c4ea8b12",
   "metadata": {},
   "source": [
    "### Exercício 3: Uso de Expressões Aritméticas em fStrings\n",
    "\n",
    "Analise o código abaixo e determine a saída impressa no console.\n",
    "\n",
    "```python\n",
    "x = 10\n",
    "y = 3\n",
    "\n",
    "resultado = f\"A soma de {x} e {y} é {x + y}.\"\n",
    "print(resultado)\n",
    "\n",
    "resultado2 = f\"A diferença entre {x} e {y} é {x - y}.\"\n",
    "print(resultado2)\n",
    "\n",
    "resultado3 = f\"O produto de {x} e {y} é {x * y}.\"\n",
    "print(resultado3)\n",
    "\n",
    "resultado4 = f\"A divisão de {x} por {y} é {x / y}.\"\n",
    "print(resultado4)\n",
    "```\n",
    "\n",
    "1. Qual é a saída impressa pela primeira instrução `print(resultado)`? A soma de 10 e 3 é 13\n",
    "2. Qual é a saída impressa pela segunda instrução `print(resultado2)`? A diferença entre 10 e 3 é 7\n",
    "3. Qual é a saída impressa pela terceira instrução `print(resultado3)`? O produto de 10 e 3 é 30\n",
    "4. Qual é a saída impressa pela quarta instrução `print(resultado4)`? A divisão de 10 por 3 é 3.333333\n",
    "\n"
   ]
  }
 ],
 "metadata": {
  "language_info": {
   "name": "python"
  }
 },
 "nbformat": 4,
 "nbformat_minor": 5
}
