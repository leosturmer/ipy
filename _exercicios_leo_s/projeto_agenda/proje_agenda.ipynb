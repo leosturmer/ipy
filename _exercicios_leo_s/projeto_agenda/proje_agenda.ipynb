{
 "cells": [
  {
   "cell_type": "markdown",
   "id": "2fc0a021",
   "metadata": {},
   "source": [
    "### Agenda de endereços\n",
    "\n",
    "O sistema será uma agenda de enderços.\n",
    "\n",
    "Ela será suportada por um `map`do Python. Por isso, teremos `registros` com a estrutura `chave:valor` do mapa.\n",
    "\n",
    "Onde:\n",
    "\n",
    "- chave: email\n",
    "- valor: todos os dados da pessoa (Ex: nome, idade, endereço, favorito)\n",
    "\n",
    "Ele será acessado pela linha de comando em modo texto.\n",
    "\n",
    "```\n",
    "\n",
    "> python agenda.py listar\n",
    "> python agenda.py consultar <email>\n",
    "> python agenda.py incluir <email>, <nome>, <idade>, <endereço>, [favorito]\n",
    "> python agenda.py apagar <email>\n",
    "> python agenda.py atualizar <email>, <nome>, <idade>, <endereço>, [favorito] \n",
    "> python agenda.py favoritar \n",
    "\n",
    "```\n",
    "\n",
    "### API\n",
    "\n",
    "```python\n",
    "# Listar registros\n",
    "\n",
    "listar(agenda)\n",
    "consultar(agenda, email)\n",
    "cadastrar(agenda, \"leo@gmail.com\", \"nome x\", 30, \"rua x.\", F)\n",
    "apagar(agenda, email)\n",
    "atualizar(agenda, email, [])\n",
    "favoritar(agenda, email)\n",
    "\n",
    "```"
   ]
  },
  {
   "cell_type": "markdown",
   "id": "c8f60659",
   "metadata": {},
   "source": [
    "#### Implementação"
   ]
  },
  {
   "cell_type": "code",
   "execution_count": 64,
   "id": "827dbee2",
   "metadata": {},
   "outputs": [],
   "source": [
    "# Nossos dados\n",
    "\n",
    "minha_agenda = {}\n"
   ]
  },
  {
   "cell_type": "markdown",
   "id": "59752de1",
   "metadata": {},
   "source": [
    "#### Cadastrar"
   ]
  },
  {
   "cell_type": "code",
   "execution_count": 65,
   "id": "367562c2",
   "metadata": {},
   "outputs": [],
   "source": [
    "def cadastrar(agenda, email, nome, idade, endereco, favorito=False): # agenda nos parênteses para saber onde acessar, o email é a chave para acessar. O que tem = é um valor padrão e não é obrigatório passar\n",
    "    agenda[email] = [nome, idade, endereco, favorito] # Email é a chave, o resto vai receber"
   ]
  },
  {
   "cell_type": "code",
   "execution_count": 66,
   "id": "7e9d724b",
   "metadata": {},
   "outputs": [],
   "source": [
    "cadastrar(minha_agenda, 'leo@leo.com', 'Leo S', 29, 'Rua X')\n",
    "cadastrar(minha_agenda, 'leo2@leo.com', 'Leo 2S', 30, 'Rua 2X', True)\n",
    "cadastrar(minha_agenda, 'leo3@leo.com', 'Leo 3S', 31, 'Rua 3X')"
   ]
  },
  {
   "cell_type": "markdown",
   "id": "f3d6ba64",
   "metadata": {},
   "source": [
    "#### Listar"
   ]
  },
  {
   "cell_type": "code",
   "execution_count": 67,
   "id": "6f4664e6",
   "metadata": {},
   "outputs": [],
   "source": [
    "def listar(agenda):\n",
    "    for email, dados in agenda.items():\n",
    "        print(f'''e-mail:{email}\n",
    "    Nome: {dados[0]}\n",
    "    Endereço: {dados[2]}\n",
    "    Idade: {dados[1]}\n",
    "    Favorito: {dados[3]}\n",
    "        ''')"
   ]
  },
  {
   "cell_type": "code",
   "execution_count": 68,
   "id": "d955542e",
   "metadata": {},
   "outputs": [
    {
     "name": "stdout",
     "output_type": "stream",
     "text": [
      "e-mail:leo@leo.com\n",
      "    Nome: Leo S\n",
      "    Endereço: Rua X\n",
      "    Idade: 29\n",
      "    Favorito: False\n",
      "        \n",
      "e-mail:leo2@leo.com\n",
      "    Nome: Leo 2S\n",
      "    Endereço: Rua 2X\n",
      "    Idade: 30\n",
      "    Favorito: True\n",
      "        \n",
      "e-mail:leo3@leo.com\n",
      "    Nome: Leo 3S\n",
      "    Endereço: Rua 3X\n",
      "    Idade: 31\n",
      "    Favorito: False\n",
      "        \n"
     ]
    }
   ],
   "source": [
    "listar(minha_agenda)"
   ]
  },
  {
   "cell_type": "markdown",
   "id": "39a328b2",
   "metadata": {},
   "source": [
    "#### Consultar"
   ]
  },
  {
   "cell_type": "code",
   "execution_count": 69,
   "id": "1bb001c0",
   "metadata": {},
   "outputs": [],
   "source": [
    "def consultar(agenda, email):\n",
    "    dados = agenda[email]\n",
    "    print(f'''e-mail:{email}\n",
    "    Nome: {dados[0]}\n",
    "    Endereço: {dados[2]}\n",
    "    Idade: {dados[1]}\n",
    "    Favorito: {dados[3]}\n",
    "    ''')"
   ]
  },
  {
   "cell_type": "code",
   "execution_count": 70,
   "id": "d3357647",
   "metadata": {},
   "outputs": [
    {
     "name": "stdout",
     "output_type": "stream",
     "text": [
      "e-mail:leo2@leo.com\n",
      "    Nome: Leo 2S\n",
      "    Endereço: Rua 2X\n",
      "    Idade: 30\n",
      "    Favorito: True\n",
      "    \n"
     ]
    }
   ],
   "source": [
    "consultar(minha_agenda, 'leo2@leo.com')"
   ]
  },
  {
   "cell_type": "markdown",
   "id": "73be4e72",
   "metadata": {},
   "source": [
    "#### Apagar"
   ]
  },
  {
   "cell_type": "code",
   "execution_count": 71,
   "id": "7b71e689",
   "metadata": {},
   "outputs": [],
   "source": [
    "def apagar(agenda, email):\n",
    "    del agenda[email]"
   ]
  },
  {
   "cell_type": "code",
   "execution_count": 72,
   "id": "b5dd79e2",
   "metadata": {},
   "outputs": [
    {
     "name": "stdout",
     "output_type": "stream",
     "text": [
      "e-mail:leo@leo.com\n",
      "    Nome: Leo S\n",
      "    Endereço: Rua X\n",
      "    Idade: 29\n",
      "    Favorito: False\n",
      "        \n",
      "e-mail:leo2@leo.com\n",
      "    Nome: Leo 2S\n",
      "    Endereço: Rua 2X\n",
      "    Idade: 30\n",
      "    Favorito: True\n",
      "        \n",
      "e-mail:leo3@leo.com\n",
      "    Nome: Leo 3S\n",
      "    Endereço: Rua 3X\n",
      "    Idade: 31\n",
      "    Favorito: False\n",
      "        \n",
      "--- apagando ---\n",
      "e-mail:leo@leo.com\n",
      "    Nome: Leo S\n",
      "    Endereço: Rua X\n",
      "    Idade: 29\n",
      "    Favorito: False\n",
      "        \n",
      "e-mail:leo3@leo.com\n",
      "    Nome: Leo 3S\n",
      "    Endereço: Rua 3X\n",
      "    Idade: 31\n",
      "    Favorito: False\n",
      "        \n"
     ]
    }
   ],
   "source": [
    "listar(minha_agenda)\n",
    "print('--- apagando ---')\n",
    "apagar(minha_agenda, 'leo2@leo.com')\n",
    "listar(minha_agenda)"
   ]
  },
  {
   "cell_type": "markdown",
   "id": "a69e48b1",
   "metadata": {},
   "source": [
    "#### Atualizar"
   ]
  },
  {
   "cell_type": "code",
   "execution_count": 73,
   "id": "bfc27b48",
   "metadata": {},
   "outputs": [],
   "source": [
    "def atualizar(agenda, email, nome, idade, endereco, favorito=False): # igual ao cadastrar. O código substitui pelo valor mais recente\n",
    "    agenda[email] = [nome, idade, endereco, favorito] "
   ]
  },
  {
   "cell_type": "code",
   "execution_count": 76,
   "id": "5fb2434b",
   "metadata": {},
   "outputs": [
    {
     "name": "stdout",
     "output_type": "stream",
     "text": [
      "e-mail:leo3@leo.com\n",
      "    Nome: Leo Três\n",
      "    Endereço: Rua 3\n",
      "    Idade: 32\n",
      "    Favorito: True\n",
      "    \n",
      "--- atualizando Leo 3 --- \n",
      "\n",
      "e-mail:leo3@leo.com\n",
      "    Nome: Leo Três\n",
      "    Endereço: Rua 3\n",
      "    Idade: 32\n",
      "    Favorito: True\n",
      "    \n"
     ]
    }
   ],
   "source": [
    "consultar(minha_agenda, 'leo3@leo.com')\n",
    "\n",
    "print(f'--- atualizando Leo 3 --- \\n')\n",
    "\n",
    "atualizar(minha_agenda, 'leo3@leo.com', 'Leo Três', 32, 'Rua 3', True)\n",
    "\n",
    "consultar(minha_agenda, 'leo3@leo.com')"
   ]
  },
  {
   "cell_type": "markdown",
   "id": "23e31e0a",
   "metadata": {},
   "source": [
    "#### Favoritar"
   ]
  },
  {
   "cell_type": "code",
   "execution_count": 77,
   "id": "98417215",
   "metadata": {},
   "outputs": [],
   "source": [
    "def favoritar(agenda, email):\n",
    "    agenda[email][3] = True\n"
   ]
  },
  {
   "cell_type": "code",
   "execution_count": 78,
   "id": "1d5e2c4e",
   "metadata": {},
   "outputs": [
    {
     "name": "stdout",
     "output_type": "stream",
     "text": [
      "e-mail:leo@leo.com\n",
      "    Nome: Leo S\n",
      "    Endereço: Rua X\n",
      "    Idade: 29\n",
      "    Favorito: False\n",
      "    \n",
      "e-mail:leo@leo.com\n",
      "    Nome: Leo S\n",
      "    Endereço: Rua X\n",
      "    Idade: 29\n",
      "    Favorito: True\n",
      "    \n"
     ]
    }
   ],
   "source": [
    "consultar(minha_agenda, \"leo@leo.com\")\n",
    "favoritar(minha_agenda, 'leo@leo.com')\n",
    "consultar(minha_agenda, 'leo@leo.com')"
   ]
  },
  {
   "cell_type": "markdown",
   "id": "6b3bd392",
   "metadata": {},
   "source": [
    "### Juntando tudo"
   ]
  },
  {
   "cell_type": "code",
   "execution_count": null,
   "id": "86b94c53",
   "metadata": {},
   "outputs": [],
   "source": [
    "minha_agenda = {}\n",
    "\n",
    "def cadastrar(agenda, email, nome, idade, endereco, favorito=False):\n",
    "    agenda[email] = [nome, idade, endereco, favorito]\n",
    "\n",
    "def atualizar(agenda, email, nome, idade, endereco, favorito=False):\n",
    "    agenda[email] = [nome, idade, endereco, favorito] \n",
    "\n",
    "def favoritar(agenda, email):\n",
    "    agenda[email][3] = True\n",
    "\n",
    "def apagar(agenda, email):\n",
    "    del agenda[email]\n",
    "\n",
    "def consultar(agenda, email):\n",
    "    dados = agenda[email]\n",
    "    print(f'''e-mail:{email}\n",
    "    Nome: {dados[0]}\n",
    "    Endereço: {dados[2]}\n",
    "    Idade: {dados[1]}\n",
    "    Favorito: {dados[3]}\n",
    "    ''')\n",
    "\n",
    "def listar(agenda):\n",
    "    for email, dados in agenda.items():\n",
    "        print(f'''e-mail:{email}\n",
    "    Nome: {dados[0]}\n",
    "    Endereço: {dados[2]}\n",
    "    Idade: {dados[1]}\n",
    "    Favorito: {dados[3]}\n",
    "        ''')"
   ]
  }
 ],
 "metadata": {
  "kernelspec": {
   "display_name": "Python 3",
   "language": "python",
   "name": "python3"
  },
  "language_info": {
   "codemirror_mode": {
    "name": "ipython",
    "version": 3
   },
   "file_extension": ".py",
   "mimetype": "text/x-python",
   "name": "python",
   "nbconvert_exporter": "python",
   "pygments_lexer": "ipython3",
   "version": "3.13.2"
  }
 },
 "nbformat": 4,
 "nbformat_minor": 5
}
