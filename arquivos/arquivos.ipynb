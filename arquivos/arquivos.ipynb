{
 "cells": [
  {
   "cell_type": "code",
   "execution_count": 1,
   "id": "31e31c62",
   "metadata": {},
   "outputs": [
    {
     "ename": "FileNotFoundError",
     "evalue": "[Errno 2] No such file or directory: 'arquivo.txt'",
     "output_type": "error",
     "traceback": [
      "\u001b[31m---------------------------------------------------------------------------\u001b[39m",
      "\u001b[31mFileNotFoundError\u001b[39m                         Traceback (most recent call last)",
      "\u001b[36mCell\u001b[39m\u001b[36m \u001b[39m\u001b[32mIn[1]\u001b[39m\u001b[32m, line 3\u001b[39m\n\u001b[32m      1\u001b[39m \u001b[38;5;66;03m# Passo 1: Abrir o arquivo de texto\u001b[39;00m\n\u001b[32m      2\u001b[39m \u001b[38;5;66;03m# Substitua 'arquivo.txt' pelo caminho do seu arquivo\u001b[39;00m\n\u001b[32m----> \u001b[39m\u001b[32m3\u001b[39m \u001b[38;5;28;01mwith\u001b[39;00m \u001b[38;5;28;43mopen\u001b[39;49m\u001b[43m(\u001b[49m\u001b[33;43m'\u001b[39;49m\u001b[33;43marquivo.txt\u001b[39;49m\u001b[33;43m'\u001b[39;49m\u001b[43m,\u001b[49m\u001b[43m \u001b[49m\u001b[33;43m'\u001b[39;49m\u001b[33;43mr\u001b[39;49m\u001b[33;43m'\u001b[39;49m\u001b[43m,\u001b[49m\u001b[43m \u001b[49m\u001b[43mencoding\u001b[49m\u001b[43m=\u001b[49m\u001b[33;43m'\u001b[39;49m\u001b[33;43mutf-8\u001b[39;49m\u001b[33;43m'\u001b[39;49m\u001b[43m)\u001b[49m \u001b[38;5;28;01mas\u001b[39;00m arquivo:\n\u001b[32m      4\u001b[39m     conteudo = arquivo.readlines()  \u001b[38;5;66;03m# Lê todas as linhas do arquivo\u001b[39;00m\n\u001b[32m      6\u001b[39m \u001b[38;5;66;03m# Passo 2: Listar o conteúdo linha por linha\u001b[39;00m\n",
      "\u001b[36mFile \u001b[39m\u001b[32m~\\AppData\\Roaming\\Python\\Python313\\site-packages\\IPython\\core\\interactiveshell.py:326\u001b[39m, in \u001b[36m_modified_open\u001b[39m\u001b[34m(file, *args, **kwargs)\u001b[39m\n\u001b[32m    319\u001b[39m \u001b[38;5;28;01mif\u001b[39;00m file \u001b[38;5;129;01min\u001b[39;00m {\u001b[32m0\u001b[39m, \u001b[32m1\u001b[39m, \u001b[32m2\u001b[39m}:\n\u001b[32m    320\u001b[39m     \u001b[38;5;28;01mraise\u001b[39;00m \u001b[38;5;167;01mValueError\u001b[39;00m(\n\u001b[32m    321\u001b[39m         \u001b[33mf\u001b[39m\u001b[33m\"\u001b[39m\u001b[33mIPython won\u001b[39m\u001b[33m'\u001b[39m\u001b[33mt let you open fd=\u001b[39m\u001b[38;5;132;01m{\u001b[39;00mfile\u001b[38;5;132;01m}\u001b[39;00m\u001b[33m by default \u001b[39m\u001b[33m\"\u001b[39m\n\u001b[32m    322\u001b[39m         \u001b[33m\"\u001b[39m\u001b[33mas it is likely to crash IPython. If you know what you are doing, \u001b[39m\u001b[33m\"\u001b[39m\n\u001b[32m    323\u001b[39m         \u001b[33m\"\u001b[39m\u001b[33myou can use builtins\u001b[39m\u001b[33m'\u001b[39m\u001b[33m open.\u001b[39m\u001b[33m\"\u001b[39m\n\u001b[32m    324\u001b[39m     )\n\u001b[32m--> \u001b[39m\u001b[32m326\u001b[39m \u001b[38;5;28;01mreturn\u001b[39;00m \u001b[43mio_open\u001b[49m\u001b[43m(\u001b[49m\u001b[43mfile\u001b[49m\u001b[43m,\u001b[49m\u001b[43m \u001b[49m\u001b[43m*\u001b[49m\u001b[43margs\u001b[49m\u001b[43m,\u001b[49m\u001b[43m \u001b[49m\u001b[43m*\u001b[49m\u001b[43m*\u001b[49m\u001b[43mkwargs\u001b[49m\u001b[43m)\u001b[49m\n",
      "\u001b[31mFileNotFoundError\u001b[39m: [Errno 2] No such file or directory: 'arquivo.txt'"
     ]
    }
   ],
   "source": [
    "# Passo 1: Abrir o arquivo de texto\n",
    "# Substitua 'arquivo.txt' pelo caminho do seu arquivo\n",
    "with open('arquivo.txt', 'r', encoding='utf-8') as arquivo:\n",
    "    conteudo = arquivo.readlines()  # Lê todas as linhas do arquivo\n",
    "\n",
    "# Passo 2: Listar o conteúdo linha por linha\n",
    "print(\"Conteúdo linha por linha:\")\n",
    "for linha in conteudo:\n",
    "    print(linha.strip())  # Remove espaços extras e quebras de linha\n",
    "\n",
    "# Passo 3: Listar o conteúdo palavra por palavra\n",
    "print(\"\\nConteúdo palavra por palavra:\")\n",
    "for linha in conteudo:\n",
    "    palavras = linha.split()  # Divide a linha em palavras\n",
    "    for palavra in palavras:\n",
    "        print(palavra)"
   ]
  },
  {
   "cell_type": "code",
   "execution_count": 6,
   "id": "aa216cd3",
   "metadata": {},
   "outputs": [
    {
     "name": "stdout",
     "output_type": "stream",
     "text": [
      "user1\tuser1@example.com\n",
      "user2\tuser2@example.com\n",
      "user3\tuser3@example.com\n",
      "user4\tuser4@example.com\n",
      "user5\tuser5@example.com\n",
      "user6\tuser6@example.com\n",
      "user7\tuser7@example.com\n",
      "user8\tuser8@example.com\n",
      "user9\tuser9@example.com\n",
      "user10\tuser10@example.com\n"
     ]
    }
   ],
   "source": [
    "# Abrir o arquivo 'users.txt' para leitura\n",
    "with open('users.txt', 'r', encoding='utf-8') as users_file:\n",
    "    # Ler os primeiros 10 registros\n",
    "    primeiros_registros = [next(users_file) for _ in range(10)]\n",
    "\n",
    "# Separar os valores usando a vírgula como delimitador e criar a lista desejada\n",
    "resultado = [f\"{linha.split(',')[0]}\\t{linha.split(',')[1]}\" for linha in primeiros_registros]\n",
    "\n",
    "# Imprimir a lista resultante\n",
    "for _ in resultado:\n",
    "    print(_)"
   ]
  },
  {
   "cell_type": "markdown",
   "id": "d6518b70",
   "metadata": {},
   "source": [
    "### Como abrir um arquivo de texto em Python e gravar uma linha de texto nele\n",
    "\n",
    "Em Python, você pode abrir um arquivo de texto para escrita utilizando a função `open()` com o modo `'w'` (escrita) ou `'a'` (acréscimo). O modo `'w'` sobrescreve o conteúdo existente no arquivo, enquanto o modo `'a'` adiciona novas linhas ao final do arquivo sem apagar o conteúdo existente.\n",
    "\n",
    "#### Exemplo de código:\n"
   ]
  },
  {
   "cell_type": "code",
   "execution_count": null,
   "id": "f65e5b2f",
   "metadata": {},
   "outputs": [],
   "source": [
    "# Abrir um arquivo para escrita (modo 'w') e gravar uma linha de texto\n",
    "with open('exemplo.txt', 'w', encoding='utf-8') as arquivo:\n",
    "    arquivo.write('Esta é a primeira linha do arquivo.\\n')\n",
    "\n",
    "# Abrir o mesmo arquivo no modo 'a' (acréscimo) e adicionar mais uma linha\n",
    "with open('exemplo.txt', 'a', encoding='utf-8') as arquivo:\n",
    "    arquivo.write('Esta é uma linha adicional no arquivo.\\n')\n",
    "\n",
    "# Ler o conteúdo do arquivo para verificar o resultado\n",
    "with open('exemplo.txt', 'r', encoding='utf-8') as arquivo:\n",
    "    conteudo = arquivo.read()\n",
    "    print(\"Conteúdo do arquivo:\")\n",
    "    print(conteudo)"
   ]
  }
 ],
 "metadata": {
  "kernelspec": {
   "display_name": "Python 3",
   "language": "python",
   "name": "python3"
  },
  "language_info": {
   "codemirror_mode": {
    "name": "ipython",
    "version": 3
   },
   "file_extension": ".py",
   "mimetype": "text/x-python",
   "name": "python",
   "nbconvert_exporter": "python",
   "pygments_lexer": "ipython3",
   "version": "3.13.2"
  }
 },
 "nbformat": 4,
 "nbformat_minor": 5
}
