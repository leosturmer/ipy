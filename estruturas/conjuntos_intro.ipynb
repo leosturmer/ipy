{
 "cells": [
  {
   "cell_type": "markdown",
   "id": "e98e4259",
   "metadata": {},
   "source": [
    "# Introdução aos Conjuntos em Python\n",
    "Os conjuntos (ou *sets*) são uma estrutura de dados em Python que representam coleções não ordenadas de elementos únicos. \n",
    "Eles são úteis para operações como união, interseção e diferença entre coleções de dados."
   ]
  },
  {
   "cell_type": "code",
   "execution_count": null,
   "id": "9c5e3594",
   "metadata": {},
   "outputs": [],
   "source": [
    "# Criando um conjunto em Python\n",
    "conjunto = {1, 2, 3, 4, 5}\n",
    "print(\"Conjunto:\", conjunto)"
   ]
  },
  {
   "cell_type": "markdown",
   "id": "fb261d94",
   "metadata": {},
   "source": [
    "## Operações com Conjuntos\n",
    "Os conjuntos suportam diversas operações matemáticas, como união, interseção e diferença."
   ]
  },
  {
   "cell_type": "code",
   "execution_count": null,
   "id": "1f6d7e31",
   "metadata": {},
   "outputs": [],
   "source": [
    "# Exemplos de operações com conjuntos\n",
    "conjunto_a = {1, 2, 3}\n",
    "conjunto_b = {3, 4, 5}\n",
    "\n",
    "# União\n",
    "uniao = conjunto_a | conjunto_b\n",
    "print(\"União:\", uniao)\n",
    "\n",
    "# Interseção\n",
    "intersecao = conjunto_a & conjunto_b\n",
    "print(\"Interseção:\", intersecao)\n",
    "\n",
    "# Diferença\n",
    "diferenca = conjunto_a - conjunto_b\n",
    "print(\"Diferença:\", diferenca)"
   ]
  }
 ],
 "metadata": {
  "kernelspec": {
   "display_name": "Python 3",
   "language": "python",
   "name": "python3"
  },
  "language_info": {
   "name": "python",
   "version": "3.12.6"
  }
 },
 "nbformat": 4,
 "nbformat_minor": 5
}
