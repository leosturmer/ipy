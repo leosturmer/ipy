{
 "cells": [
  {
   "cell_type": "markdown",
   "id": "d5a4cebd",
   "metadata": {},
   "source": [
    "## Exercícios de revisão - seq, cond, loop, list"
   ]
  },
  {
   "cell_type": "markdown",
   "id": "62aa7fb1",
   "metadata": {},
   "source": [
    "- Escreva um programa que conte de 1 até `x`, imprimindo na tela cada um dos números contados. O valor de `x` deve ser recebido pelo teclado."
   ]
  },
  {
   "cell_type": "code",
   "execution_count": null,
   "id": "fa25a443",
   "metadata": {},
   "outputs": [
    {
     "name": "stdout",
     "output_type": "stream",
     "text": [
      "1\n",
      "2\n",
      "3\n",
      "4\n"
     ]
    }
   ],
   "source": [
    "x = int(input(\"Número de repetições: \"))\n",
    "\n",
    "for i in range(x):\n",
    "    print(i+1)"
   ]
  },
  {
   "cell_type": "code",
   "execution_count": 8,
   "id": "35eb98a3",
   "metadata": {},
   "outputs": [
    {
     "name": "stdout",
     "output_type": "stream",
     "text": [
      "1\n",
      "2\n",
      "3\n",
      "4\n",
      "5\n"
     ]
    }
   ],
   "source": [
    "x = int(input(\"Número de repetições: \"))\n",
    "i = 1\n",
    "\n",
    "while x>0:\n",
    "    print(i)\n",
    "    i += 1\n",
    "    x -= 1"
   ]
  },
  {
   "cell_type": "markdown",
   "id": "d45829e2",
   "metadata": {},
   "source": [
    "- Escreva um programa que gera uma lista de compras com este formato:\n",
    "\n",
    "```\n",
    "1. água\n",
    "2. manteiga\n",
    "3. açúcar\n",
    "4. pão\n",
    "...\n",
    "```\n",
    "\n",
    "Os ítens da lista de compras devem vir de uma list. Ex.\n",
    "\n",
    "```python\n",
    "compras = ['água', 'manteiga', 'açúcar', 'pão']\n",
    "```\n",
    "\n",
    "O programa deve funcionar com listas de qualquer tamanho, não apenas com a do exemplo."
   ]
  },
  {
   "cell_type": "code",
   "execution_count": 15,
   "id": "1520c3de",
   "metadata": {},
   "outputs": [
    {
     "name": "stdout",
     "output_type": "stream",
     "text": [
      "1. água\n",
      "2. manteiga\n",
      "3. açúcar\n",
      "4. pão\n",
      "5. refri\n"
     ]
    }
   ],
   "source": [
    "compras = ['água', 'manteiga', 'açúcar', 'pão', 'refri']\n",
    "x = len(compras)\n",
    "\n",
    "for i in range(x):\n",
    "    print(f'{i+1}. {compras[i]}')"
   ]
  },
  {
   "cell_type": "code",
   "execution_count": 22,
   "id": "3b9359e0",
   "metadata": {},
   "outputs": [
    {
     "name": "stdout",
     "output_type": "stream",
     "text": [
      "1. água\n",
      "2. manteiga\n",
      "3. açúcar\n",
      "4. pão\n",
      "5. refri\n"
     ]
    }
   ],
   "source": [
    "compras = ['água', 'manteiga', 'açúcar', 'pão', 'refri']\n",
    "numero = 0\n",
    "for item in compras:    \n",
    "    numero += 1\n",
    "    print(f'{numero}. {item}')\n",
    "    "
   ]
  },
  {
   "cell_type": "code",
   "execution_count": 30,
   "id": "939e83e9",
   "metadata": {},
   "outputs": [
    {
     "name": "stdout",
     "output_type": "stream",
     "text": [
      "(10, 15)\n",
      "10\n",
      "15\n"
     ]
    }
   ],
   "source": [
    "posicao = (10, 15)\n",
    "print(posicao)\n",
    "\n",
    "x, y = posicao\n",
    "\n",
    "print(x)\n",
    "print(y)"
   ]
  },
  {
   "cell_type": "code",
   "execution_count": 41,
   "id": "ae10905b",
   "metadata": {},
   "outputs": [
    {
     "name": "stdout",
     "output_type": "stream",
     "text": [
      "1. ÁGUA\n",
      "2. MANTEIGA\n",
      "3. AÇÚCAR\n",
      "4. PÃO\n",
      "5. REFRI\n"
     ]
    }
   ],
   "source": [
    "compras = ['água', 'manteiga', 'açúcar', 'pão', 'refri']\n",
    "\n",
    "for i, item in enumerate(compras):\n",
    "    print(f'{i+1}. {item.upper()}')"
   ]
  },
  {
   "cell_type": "markdown",
   "id": "3f2c0665",
   "metadata": {},
   "source": [
    "- Escreva um programa que imprima uma sequência como esta:\n",
    "\n",
    "```\n",
    "*\n",
    "#\n",
    "*\n",
    "#\n",
    "*\n",
    "#\n",
    "*\n",
    "#\n",
    "...\n",
    "```\n",
    "\n",
    "A quantidade de ítens da sequência deve ser recebida pelo teclado."
   ]
  },
  {
   "cell_type": "code",
   "execution_count": null,
   "id": "93e7022a",
   "metadata": {},
   "outputs": [],
   "source": []
  },
  {
   "cell_type": "markdown",
   "id": "ccf8add4",
   "metadata": {},
   "source": [
    "- Escreva um programa que imprime uma lista de números inteiros positivos de comprimento `x` com o seguinte formato:\n",
    "\n",
    "```\n",
    "A 1\n",
    "B 2\n",
    "A 3\n",
    "B 4\n",
    "A 5\n",
    "B 6\n",
    "...\n",
    "```\n",
    "\n",
    "O valor de `x` deve ser recebido pelo teclado."
   ]
  },
  {
   "cell_type": "code",
   "execution_count": null,
   "id": "36154a61",
   "metadata": {},
   "outputs": [],
   "source": []
  }
 ],
 "metadata": {
  "kernelspec": {
   "display_name": "Python 3",
   "language": "python",
   "name": "python3"
  },
  "language_info": {
   "codemirror_mode": {
    "name": "ipython",
    "version": 3
   },
   "file_extension": ".py",
   "mimetype": "text/x-python",
   "name": "python",
   "nbconvert_exporter": "python",
   "pygments_lexer": "ipython3",
   "version": "3.12.6"
  }
 },
 "nbformat": 4,
 "nbformat_minor": 5
}
