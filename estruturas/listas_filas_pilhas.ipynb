{
 "cells": [
  {
   "cell_type": "markdown",
   "id": "f99d3664",
   "metadata": {},
   "source": [
    "## Pilhas e Filas\n",
    "\n",
    "Listas em Python podem ser usadas para implementar estruturas de dados como filas e pilhas. Ambas são úteis para organizar e manipular dados de maneira controlada.\n",
    "\n",
    "Essas estruturas são amplamente utilizadas em algoritmos e resolução de problemas, como controle de tarefas, navegação em páginas da web (pilhas) e processamento de filas de mensagens (filas).\n",
    "\n",
    "### Pilhas (Stacks)\n",
    "Uma pilha segue o princípio **LIFO** (Last In, First Out), ou seja, o último elemento inserido é o primeiro a ser removido. Em Python, podemos usar os métodos `append` para adicionar elementos e `pop` para removê-los.\n",
    "\n",
    "#### Exemplo de Pilha:\n",
    "\n"
   ]
  },
  {
   "cell_type": "code",
   "execution_count": null,
   "id": "591da2cc",
   "metadata": {},
   "outputs": [],
   "source": [
    "# Criando uma pilha\n",
    "pilha = []\n",
    "\n",
    "# Adicionando elementos à pilha\n",
    "pilha.append(1)\n",
    "pilha.append(2)\n",
    "pilha.append(3)\n",
    "print(\"Pilha após inserções:\", pilha)  # Saída: [1, 2, 3]\n",
    "\n",
    "# Removendo elementos da pilha\n",
    "ultimo = pilha.pop()\n",
    "print(\"Elemento removido:\", ultimo)  # Saída: 3\n",
    "print(\"Pilha após remoção:\", pilha)  # Saída: [1, 2]"
   ]
  },
  {
   "cell_type": "markdown",
   "id": "7af46e31",
   "metadata": {},
   "source": [
    "\n",
    "### Filas (Queues)\n",
    "Uma fila segue o princípio **FIFO** (First In, First Out), ou seja, o primeiro elemento inserido é o primeiro a ser removido. Em Python, podemos usar listas para implementar filas, mas para maior eficiência, recomenda-se usar `collections.deque`.\n",
    "\n",
    "#### Exemplo de Fila:\n"
   ]
  },
  {
   "cell_type": "code",
   "execution_count": null,
   "id": "53262b4d",
   "metadata": {},
   "outputs": [],
   "source": [
    "from collections import deque\n",
    "\n",
    "# Criando uma fila\n",
    "fila = deque()\n",
    "\n",
    "# Adicionando elementos à fila\n",
    "fila.append(\"A\")\n",
    "fila.append(\"B\")\n",
    "fila.append(\"C\")\n",
    "print(\"Fila após inserções:\", list(fila))  # Saída: ['A', 'B', 'C']\n",
    "\n",
    "# Removendo elementos da fila-\n",
    "primeiro = fila.popleft()\n",
    "print(\"Elemento removido:\", primeiro)  # Saída: 'A'\n",
    "print(\"Fila após remoção:\", list(fila))  # Saída: ['B', 'C']"
   ]
  },
  {
   "cell_type": "markdown",
   "id": "e449deee",
   "metadata": {},
   "source": [
    "\n",
    "### Resumo\n",
    "- **Pilha**: Use `append` para adicionar e `pop` para remover.\n",
    "- **Fila**: Use `append` para adicionar e `popleft` (de `deque`) para remover."
   ]
  },
  {
   "cell_type": "markdown",
   "id": "d60c7b69",
   "metadata": {},
   "source": [
    "## Exemplo com pilha"
   ]
  },
  {
   "cell_type": "code",
   "execution_count": null,
   "id": "59a097d4",
   "metadata": {},
   "outputs": [],
   "source": [
    "baralho = [] # baralho está vazio\n",
    "\n",
    "# empilhamos cartas no baralho\n",
    "baralho.append('K')\n",
    "baralho.append('4')\n",
    "baralho.append('Q')\n",
    "baralho.append('8')\n",
    "baralho.append('J')\n",
    "\n",
    "print(baralho)"
   ]
  },
  {
   "cell_type": "code",
   "execution_count": null,
   "id": "4bade30a",
   "metadata": {},
   "outputs": [],
   "source": [
    "# O bralho é uma pilha. \n",
    "# Compramos as cartas que estão em cima da pilha\n",
    "# isto é, as que estão *no final* da lista\n",
    "\n",
    "carta_comprada = baralho.pop()  # remove e retorna o último elemento da lista\n",
    "                                # o que está \"em cima\" dos outros\n",
    "print(carta_comprada)\n",
    "print(baralho)"
   ]
  },
  {
   "cell_type": "markdown",
   "id": "dc097e87",
   "metadata": {},
   "source": [
    "## Exemplo com fila"
   ]
  },
  {
   "cell_type": "code",
   "execution_count": null,
   "id": "a042870b",
   "metadata": {},
   "outputs": [],
   "source": [
    "# Máquina de vender\n",
    "from collections import deque\n",
    "\n",
    "refri = deque() # coluna (pilha) dos refris\n",
    "chocolates = deque() # coluna (pilha) dos chocolates\n",
    "\n",
    "# abaster refri\n",
    "refri.append('refri 1')\n",
    "refri.append('refri 2')\n",
    "refri.append('refri 3')\n",
    "refri.append('refri 4')\n",
    "\n",
    "#abastecer chocolate\n",
    "chocolates.append('choco 1')\n",
    "chocolates.append('choco 2')\n",
    "chocolates.append('choco 3')\n"
   ]
  },
  {
   "cell_type": "code",
   "execution_count": null,
   "id": "df2cb278",
   "metadata": {},
   "outputs": [],
   "source": [
    "# comprar um chocolate\n",
    "chocolate_vendido = chocolates.popleft()\n",
    "print(chocolate_vendido)"
   ]
  },
  {
   "cell_type": "markdown",
   "id": "cadfe9bc",
   "metadata": {},
   "source": [
    "### Começando a transformar a máquina de vendas em um programa"
   ]
  },
  {
   "cell_type": "code",
   "execution_count": 10,
   "id": "6cf81eaa",
   "metadata": {},
   "outputs": [],
   "source": [
    "# Máquina de vendas\n",
    "from collections import deque\n",
    "\n",
    "refri = deque() # coluna (pilha) dos refris\n",
    "chocolate = deque() # coluna (pilha) dos chocolates\n",
    "\n",
    "def vender_chocolate():\n",
    "    try:\n",
    "        return chocolate.popleft()\n",
    "    except IndexError:\n",
    "        return \"Acabaram os chocolates\"\n",
    "def vender_refri():\n",
    "    try:    \n",
    "        return refri.popleft()\n",
    "    except IndexError:\n",
    "        return \"Acabaram os refris\"\n",
    "  \n",
    "## Abastecer máquina\n",
    "def abastecer_de_refri():\n",
    "    refri.append('refri')\n",
    "\n",
    "def abastecer_de_chocolate():\n",
    "    chocolate.append('chocolate')\n"
   ]
  },
  {
   "cell_type": "code",
   "execution_count": 11,
   "id": "2af0d72e",
   "metadata": {},
   "outputs": [],
   "source": [
    "abastecer_de_chocolate()"
   ]
  },
  {
   "cell_type": "code",
   "execution_count": 12,
   "id": "c2c39353",
   "metadata": {},
   "outputs": [],
   "source": [
    "abastecer_de_chocolate()"
   ]
  },
  {
   "cell_type": "code",
   "execution_count": 13,
   "id": "8b034998",
   "metadata": {},
   "outputs": [],
   "source": [
    "abastecer_de_refri()"
   ]
  },
  {
   "cell_type": "code",
   "execution_count": 14,
   "id": "af65e2dd",
   "metadata": {},
   "outputs": [],
   "source": [
    "abastecer_de_refri()"
   ]
  },
  {
   "cell_type": "code",
   "execution_count": 15,
   "id": "2286195f",
   "metadata": {},
   "outputs": [
    {
     "data": {
      "text/plain": [
       "'chocolate'"
      ]
     },
     "execution_count": 15,
     "metadata": {},
     "output_type": "execute_result"
    }
   ],
   "source": [
    "vender_chocolate()"
   ]
  }
 ],
 "metadata": {
  "kernelspec": {
   "display_name": "Python 3",
   "language": "python",
   "name": "python3"
  },
  "language_info": {
   "codemirror_mode": {
    "name": "ipython",
    "version": 3
   },
   "file_extension": ".py",
   "mimetype": "text/x-python",
   "name": "python",
   "nbconvert_exporter": "python",
   "pygments_lexer": "ipython3",
   "version": "3.12.6"
  }
 },
 "nbformat": 4,
 "nbformat_minor": 5
}
