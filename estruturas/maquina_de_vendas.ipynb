{
 "cells": [
  {
   "cell_type": "markdown",
   "id": "e423afe9",
   "metadata": {},
   "source": [
    "## Máquina de Vendas"
   ]
  },
  {
   "cell_type": "code",
   "execution_count": null,
   "id": "13dc1648",
   "metadata": {},
   "outputs": [],
   "source": [
    "# Máquina de vendas\n",
    "from collections import deque\n",
    "\n",
    "refri = deque() # coluna (pilha) dos refris\n",
    "chocolate = deque() # coluna (pilha) dos chocolates\n",
    "\n",
    "def vender_chocolate():\n",
    "    try:\n",
    "        return chocolate.popleft()\n",
    "    except IndexError:\n",
    "        return \"Acabaram os chocolates\"\n",
    "def vender_refri():\n",
    "    try:    \n",
    "        return refri.popleft()\n",
    "    except IndexError:\n",
    "        return \"Acabaram os refris\"\n",
    "  \n",
    "## Abastecer máquina\n",
    "def abastecer_de_refri():\n",
    "    refri.append('refri')\n",
    "\n",
    "def abastecer_de_chocolate():\n",
    "    chocolate.append('chocolate')\n"
   ]
  },
  {
   "cell_type": "code",
   "execution_count": null,
   "id": "5442916f",
   "metadata": {},
   "outputs": [],
   "source": []
  }
 ],
 "metadata": {
  "language_info": {
   "name": "python"
  }
 },
 "nbformat": 4,
 "nbformat_minor": 5
}
