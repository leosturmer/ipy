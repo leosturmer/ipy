{
 "cells": [
  {
   "cell_type": "markdown",
   "id": "e423afe9",
   "metadata": {},
   "source": [
    "## Máquina de Vendas"
   ]
  },
  {
   "cell_type": "code",
   "execution_count": 74,
   "id": "13dc1648",
   "metadata": {},
   "outputs": [],
   "source": [
    "# Máquina de vendas\n",
    "from collections import deque\n",
    "\n",
    "refri = deque() # coluna (pilha) dos refris\n",
    "serie_refri = 0\n",
    "\n",
    "chocolate = deque() # coluna (pilha) dos chocolates\n",
    "serie_chocolate = 0\n",
    "\n",
    "def vender_chocolate():\n",
    "    global serie_chocolate\n",
    "    try:\n",
    "        return chocolate.popleft()\n",
    "    except IndexError:\n",
    "        serie_chocolate = 0\n",
    "        return \"Acabaram os chocolates\"\n",
    "\n",
    "def vender_refri():\n",
    "    global serie_refri\n",
    "    try:    \n",
    "        return refri.popleft()\n",
    "    except IndexError:\n",
    "        serie_refri = 0\n",
    "        return \"Acabaram os refris\"\n",
    "  \n",
    "## Abastecer máquina\n",
    "def abastecer_de_refri():\n",
    "    global serie_refri\n",
    "    serie_refri += 1\n",
    "    refri.append(f'refri {serie_refri}')\n",
    "\n",
    "def abastecer_de_chocolate():    \n",
    "    global serie_chocolate \n",
    "    serie_chocolate += 1\n",
    "    chocolate.append(f'chocolate {serie_chocolate}')\n"
   ]
  },
  {
   "cell_type": "code",
   "execution_count": 104,
   "id": "5442916f",
   "metadata": {},
   "outputs": [],
   "source": [
    "abastecer_de_chocolate()\n"
   ]
  },
  {
   "cell_type": "code",
   "execution_count": 101,
   "id": "e52cd825",
   "metadata": {},
   "outputs": [],
   "source": [
    "abastecer_de_refri()"
   ]
  },
  {
   "cell_type": "code",
   "execution_count": 96,
   "id": "0d107bb8",
   "metadata": {},
   "outputs": [
    {
     "name": "stdout",
     "output_type": "stream",
     "text": [
      "chocolate 3\n",
      "Acabaram os refris\n"
     ]
    }
   ],
   "source": [
    "print(vender_chocolate())\n",
    "print(vender_refri())"
   ]
  },
  {
   "cell_type": "code",
   "execution_count": null,
   "id": "43c86d76",
   "metadata": {},
   "outputs": [],
   "source": []
  }
 ],
 "metadata": {
  "kernelspec": {
   "display_name": "Python 3",
   "language": "python",
   "name": "python3"
  },
  "language_info": {
   "codemirror_mode": {
    "name": "ipython",
    "version": 3
   },
   "file_extension": ".py",
   "mimetype": "text/x-python",
   "name": "python",
   "nbconvert_exporter": "python",
   "pygments_lexer": "ipython3",
   "version": "3.12.6"
  }
 },
 "nbformat": 4,
 "nbformat_minor": 5
}
