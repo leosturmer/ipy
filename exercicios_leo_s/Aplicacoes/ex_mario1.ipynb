{
 "cells": [
  {
   "cell_type": "markdown",
   "metadata": {},
   "source": [
    "## Exercício - argumentos em linha de comando\n",
    "\n",
    "![Mario blocos e paredes](../img/mario1.png)\n",
    "\n",
    "### Fase I\n",
    "\n",
    "1. O que faz o programa abaixo?\n",
    "\n",
    "```python\n",
    "linhas = 6\n",
    "colunas = 3\n",
    "\n",
    "for linha in range(linhas):\n",
    "    print(\"#\" * colunas)\n",
    "```\n",
    "\n",
    "\n",
    "O programa recebe as variáveis linhas e colunas. Em seguida, ele solicita que seja feito um loop do tamanho definido para a variável linhas (6) onde o programa irá imprimir # vezes o número de colunas (3).\n",
    "\n",
    "A saída esperada é \n",
    "```###\n",
    "###\n",
    "###\n",
    "###\n",
    "###\n",
    "###\n",
    "```"
   ]
  },
  {
   "cell_type": "markdown",
   "metadata": {},
   "source": [
    "2. Modifique o programa para que os valores das linhas e colunas sejam recebidos pela linha de comando\n",
    "\n",
    "### Fase II\n",
    "\n",
    "![Mario - degraus](../img/mario2.jpg)\n",
    "\n",
    "Você vai escrever um programa que desenha na tela uma pirâmide como as do jogo Mario Bros.\n",
    "\n",
    "Seu programa deve receber a `quantidade de degraus` da pirâmide como parâmetro pela linha de comando.\n",
    "\n",
    "Por exemplo:\n",
    "\n",
    "```cmd\n",
    "python mario.py 5\n",
    "```\n",
    "\n",
    "Uma chamada como essa deve resultar na seguinte saída:\n",
    "\n",
    "```\n",
    "#\n",
    "##\n",
    "###\n",
    "####\n",
    "#####\n",
    "```\n",
    "\n",
    "Esta é uma pirâmide com 5 degraus."
   ]
  },
  {
   "cell_type": "code",
   "execution_count": 6,
   "metadata": {},
   "outputs": [
    {
     "name": "stdout",
     "output_type": "stream",
     "text": [
      "#\n",
      "##\n",
      "###\n",
      "####\n",
      "#####\n",
      "######\n",
      "#######\n",
      "########\n",
      "#########\n"
     ]
    }
   ],
   "source": [
    "linhas = 9\n",
    "colunas = 1\n",
    "\n",
    "for linha in range(linhas):\n",
    "    print(\"#\" * colunas)\n",
    "    colunas = colunas + 1 "
   ]
  },
  {
   "cell_type": "markdown",
   "metadata": {},
   "source": [
    "\n",
    "\n",
    "\n",
    "\n",
    "### Fase 3\n",
    "\n",
    "Acrescente as seguintes restrições ao programa:\n",
    "\n",
    "- O programa deve recusar-se a gerar uma pirâmide com `0 degraus`\n",
    "- O programa deve recusar-se a gerar uma pirâmide com mais `mais de 10 degraus`\n",
    "- O programa pode receber um segundo parâmetro **opcional** que representará o caractere usado para desenhar a pirâmide. Exemplo:\n",
    "    ```\n",
    "    python mario.py 5 *\n",
    "    ```\n",
    "    A saída deve ser:\n",
    "    ```\n",
    "    *\n",
    "    **\n",
    "    ***\n",
    "    ****\n",
    "    *****\n",
    "    ```\n"
   ]
  },
  {
   "cell_type": "code",
   "execution_count": 12,
   "metadata": {},
   "outputs": [
    {
     "name": "stdout",
     "output_type": "stream",
     "text": [
      "5\n",
      "55\n",
      "555\n",
      "5555\n",
      "55555\n",
      "555555\n",
      "5555555\n",
      "55555555\n",
      "555555555\n",
      "5555555555\n"
     ]
    }
   ],
   "source": [
    "colunas = 1\n",
    "\n",
    "linhas = int(input(\"Qual a altura da sua pirâmide? \"))\n",
    "\n",
    "desenho = input(\"Qual caractere você deseja usar na pirâmide? \")\n",
    "\n",
    "if linhas == 0 or linhas > 10:\n",
    "    print(\"Número inválido.\")\n",
    "else:\n",
    "    for linha in range(linhas):\n",
    "        print(f\"{desenho}\" * colunas)\n",
    "        colunas = colunas + 1 "
   ]
  }
 ],
 "metadata": {
  "kernelspec": {
   "display_name": "Python 3",
   "language": "python",
   "name": "python3"
  },
  "language_info": {
   "codemirror_mode": {
    "name": "ipython",
    "version": 3
   },
   "file_extension": ".py",
   "mimetype": "text/x-python",
   "name": "python",
   "nbconvert_exporter": "python",
   "pygments_lexer": "ipython3",
   "version": "3.13.2"
  }
 },
 "nbformat": 4,
 "nbformat_minor": 2
}
