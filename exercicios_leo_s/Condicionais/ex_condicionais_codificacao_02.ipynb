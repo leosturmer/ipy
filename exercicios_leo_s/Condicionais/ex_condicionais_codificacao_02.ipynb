{
 "cells": [
  {
   "cell_type": "markdown",
   "metadata": {},
   "source": [
    "### Exercício 1: Verificação de Palavra com Todas as Letras Maiúsculas\n",
    "\n",
    "**Instruções:**\n",
    "Escreva um programa que receba uma palavra e verifique se todas as letras estão em maiúsculas. Imprima \"A palavra está em maiúsculas.\" ou \"A palavra não está em maiúsculas.\"\n",
    "\n",
    "**Exemplo de Entrada e Saída:**\n",
    "- Entrada: \"PYTHON\"\n",
    "- Saída: \"A palavra está em maiúsculas.\"\n",
    "- Entrada: \"Python\"\n",
    "- Saída: \"A palavra não está em maiúsculas.\""
   ]
  },
  {
   "cell_type": "code",
   "execution_count": 6,
   "metadata": {},
   "outputs": [
    {
     "name": "stdout",
     "output_type": "stream",
     "text": [
      "Laranja: esta palavra não está em maiúsculas\n"
     ]
    }
   ],
   "source": [
    "palavra = input(\"Escreva uma palavra: \")\n",
    "\n",
    "if palavra.isupper():\n",
    "    print(f\"{palavra}: esta palavra está em maiúsculas\")\n",
    "else:\n",
    "    print(f\"{palavra}: esta palavra não está em maiúsculas\")"
   ]
  },
  {
   "cell_type": "markdown",
   "metadata": {},
   "source": [
    "### Exercício 2: Verificação de Substring\n",
    "\n",
    "**Instruções:**\n",
    "Escreva um programa que receba duas strings e verifique se a segunda string é uma substring da primeira.\n",
    "\n",
    "**Exemplo de Entrada e Saída:**\n",
    "- Entrada: \"programação\", \"grama\"\n",
    "- Saída: \"A segunda string é uma substring da primeira.\"\n",
    "- Entrada: \"python\", \"java\"\n",
    "- Saída: \"A segunda string não é uma substring da primeira.\""
   ]
  },
  {
   "cell_type": "code",
   "execution_count": 8,
   "metadata": {},
   "outputs": [
    {
     "name": "stdout",
     "output_type": "stream",
     "text": [
      "A segunda string não é uma substring da primeira\n"
     ]
    }
   ],
   "source": [
    "palavra1 = input(\"Digite a primeira palavra: \")\n",
    "palavra2 = input(\"Digite a segunda palavra: \")\n",
    "\n",
    "if palavra2 in palavra1:\n",
    "    print(\"A segunda string é uma substring da primeira\")\n",
    "else:\n",
    "    print(\"A segunda string não é uma substring da primeira\")"
   ]
  },
  {
   "cell_type": "markdown",
   "metadata": {},
   "source": [
    "### Exercício 3: Verificação de Categoria de IMC\n",
    "\n",
    "**Instruções:**\n",
    "Escreva um programa que receba o peso e a altura de uma pessoa, calcule o IMC (Índice de Massa Corporal) e determine a categoria (baixo peso, peso normal, sobrepeso, obesidade).\n",
    "\n",
    "**Exemplo de Entrada e Saída:**\n",
    "- Entrada: peso = 70, altura = 1.75\n",
    "- Saída: \"Peso normal.\""
   ]
  },
  {
   "cell_type": "code",
   "execution_count": 14,
   "metadata": {},
   "outputs": [
    {
     "name": "stdout",
     "output_type": "stream",
     "text": [
      "Baixo peso\n"
     ]
    }
   ],
   "source": [
    "peso = float(input(\"Digite o seu peso (kg): \"))\n",
    "altura = float(input(\"Digite a sua altura (m): \"))\n",
    "\n",
    "imc = peso / (altura*altura)\n",
    "\n",
    "if imc <= 18.5:\n",
    "    print(\"Baixo peso\")\n",
    "elif imc >= 24.9:\n",
    "    print(\"Peso normal\")\n",
    "elif imc >= 29.9:\n",
    "    print(\"Sobrepeso\")\n",
    "else:\n",
    "    print(\"Obesidade\")"
   ]
  },
  {
   "cell_type": "markdown",
   "metadata": {},
   "source": [
    "### Exercício 4: Verificação de Ordem Alfabética\n",
    "\n",
    "**Instruções:**\n",
    "Escreva um programa que receba uma palavra e verifique se as letras estão em ordem alfabética.\n",
    "\n",
    "**Exemplo de Entrada e Saída:**\n",
    "- Entrada: \"amor\"\n",
    "- Saída: \"As letras estão em ordem alfabética.\"\n",
    "- Entrada: \"python\"\n",
    "- Saída: \"As letras não estão em ordem alfabética.\""
   ]
  },
  {
   "cell_type": "code",
   "execution_count": null,
   "metadata": {},
   "outputs": [],
   "source": [
    "\n",
    "### Não sei\n",
    "\n"
   ]
  },
  {
   "cell_type": "markdown",
   "metadata": {},
   "source": [
    "### Exercício 5: Verificação de Classificação de Idade\n",
    "\n",
    "**Instruções:**\n",
    "Escreva um programa que receba a idade de uma pessoa e classifique-a em uma das seguintes categorias: criança, adolescente, adulto, idoso.\n",
    "\n",
    "**Exemplo de Entrada e Saída:**\n",
    "- Entrada: 10\n",
    "- Saída: \"Criança.\"\n",
    "- Entrada: 30\n",
    "- Saída: \"Adulto.\""
   ]
  },
  {
   "cell_type": "code",
   "execution_count": 20,
   "metadata": {},
   "outputs": [
    {
     "name": "stdout",
     "output_type": "stream",
     "text": [
      "Idoso\n"
     ]
    }
   ],
   "source": [
    "idade = int(input(\"Digite a sua idade: \"))\n",
    "\n",
    "if idade >= 60:\n",
    "    print(\"Idoso\")\n",
    "elif idade >= 18:\n",
    "    print(\"Adulto\")\n",
    "elif idade >= 13:\n",
    "    print(\"Adolescente\")\n",
    "else:\n",
    "    print(\"Criança\")"
   ]
  }
 ],
 "metadata": {
  "kernelspec": {
   "display_name": "Python 3",
   "language": "python",
   "name": "python3"
  },
  "language_info": {
   "codemirror_mode": {
    "name": "ipython",
    "version": 3
   },
   "file_extension": ".py",
   "mimetype": "text/x-python",
   "name": "python",
   "nbconvert_exporter": "python",
   "pygments_lexer": "ipython3",
   "version": "3.13.2"
  }
 },
 "nbformat": 4,
 "nbformat_minor": 2
}
