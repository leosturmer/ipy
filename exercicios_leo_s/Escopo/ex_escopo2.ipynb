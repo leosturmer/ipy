{
 "cells": [
  {
   "cell_type": "markdown",
   "id": "8fee1b85",
   "metadata": {},
   "source": [
    "##  Escopo de Variáveis - Exercícios de Leitura de Código II"
   ]
  },
  {
   "cell_type": "markdown",
   "id": "af237554",
   "metadata": {},
   "source": [
    "1. Qual será a saída do seguinte código?\n",
    "\n",
    "```python\n",
    "\n",
    "def funcao():\n",
    "\n",
    "    x = 5\n",
    "\n",
    "    def interna():\n",
    "        nonlocal x\n",
    "        x += 1\n",
    "\n",
    "    interna()\n",
    "    print(x)\n",
    "\n",
    "funcao()\n",
    "```\n",
    "\n",
    "O código cria uma função onde x = 5. Dentro desta função, ocorre outra função que chama o X da função anterior e soma com um. Ao final, ele imprime o valor de x, ou seja, 6. "
   ]
  },
  {
   "cell_type": "markdown",
   "id": "cfebe6cc",
   "metadata": {},
   "source": [
    "2. Leia o código abaixo e determine o valor de `z` após a execução do programa:\n",
    "\n",
    "```python\n",
    "\n",
    "z = 0\n",
    "\n",
    "def externa():\n",
    "    z = 10\n",
    "\n",
    "    def interna():\n",
    "        nonlocal z\n",
    "        z += 1\n",
    "\n",
    "    interna()\n",
    "    print(z)\n",
    "\n",
    "externa()\n",
    "print(z)\n",
    "```\n",
    "\n",
    "A variável z = 0 fora da função. Dentro de externa, z se torna 10. Dentro de interna, é chamada a z = 10 e somado 1. A função interna imprime o valor de z da função (11) e o valor de z fora da função (0)"
   ]
  },
  {
   "cell_type": "markdown",
   "id": "833e572f",
   "metadata": {},
   "source": [
    "3. Qual será a saída do seguinte código?\n",
    "\n",
    "```python\n",
    "\n",
    "x = 10\n",
    "\n",
    "def externa():\n",
    "    x = 20\n",
    "    def interna():\n",
    "        print(x)\n",
    "    interna()\n",
    "\n",
    "externa()\n",
    "print(x)\n",
    "```\n",
    "\n",
    "A variável x = 10 fora da função. Externa é 20 e dentro de interna ela imprime o valor da externa 20. No final, imprime o valor global 10.\n",
    "\n",
    "20\n",
    "10"
   ]
  }
 ],
 "metadata": {
  "kernelspec": {
   "display_name": "Python 3",
   "language": "python",
   "name": "python3"
  },
  "language_info": {
   "codemirror_mode": {
    "name": "ipython",
    "version": 3
   },
   "file_extension": ".py",
   "mimetype": "text/x-python",
   "name": "python",
   "nbconvert_exporter": "python",
   "pygments_lexer": "ipython3",
   "version": "3.13.2"
  }
 },
 "nbformat": 4,
 "nbformat_minor": 5
}
