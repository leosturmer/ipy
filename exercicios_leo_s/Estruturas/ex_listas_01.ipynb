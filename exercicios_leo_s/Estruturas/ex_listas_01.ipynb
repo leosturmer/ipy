{
 "cells": [
  {
   "cell_type": "markdown",
   "id": "05f890b0",
   "metadata": {},
   "source": [
    "# Exercícios de Leitura de Código com Listas\n",
    "\n",
    "Abaixo estão cinco exercícios para praticar a leitura e interpretação de código envolvendo listas em Python."
   ]
  },
  {
   "cell_type": "markdown",
   "id": "f37cbb34",
   "metadata": {},
   "source": [
    "### Exercício 1\n",
    "O que será impresso pelo seguinte código?\n",
    "\n",
    "```python\n",
    "\n",
    "numeros = [10, 20, 30, 40, 50]\n",
    "print(numeros[1] + numeros[-1])\n",
    "\n",
    "```\n",
    "\n",
    "O código cria uma lista de números e depois solicita a impressão deles somados. Ele solicita pelo 1 e -1, ou seja, pelo número 20 e número 50.\n",
    "\n",
    "70"
   ]
  },
  {
   "cell_type": "markdown",
   "id": "3f0380f4",
   "metadata": {},
   "source": [
    "### Exercício 2\n",
    "\n",
    "Qual será o resultado após a execução do código abaixo?\n",
    "\n",
    "```python\n",
    "\n",
    "frutas = [\"maçã\", \"banana\", \"laranja\"]\n",
    "frutas.append(\"uva\")\n",
    "frutas.remove(\"banana\")\n",
    "print(frutas)\n",
    "\n",
    "```\n",
    "\n",
    "O código cria uma lista de frutas. Depois ele adiicona uva ao final das frutas e remove banana e pede para imprimir.\n",
    "\n",
    "maçã, laranja, uva"
   ]
  },
  {
   "cell_type": "markdown",
   "id": "2bb865e4",
   "metadata": {},
   "source": [
    "### Exercício 3\n",
    "\n",
    "O que será exibido pelo seguinte código?\n",
    "\n",
    "```python\n",
    "\n",
    "lista = [1, 2, 3, 4, 5]\n",
    "\n",
    "for i in range(len(lista)):\n",
    "    lista[i] *= 2\n",
    "print(lista)\n",
    "\n",
    "```\n",
    "\n",
    "O código cria uma lista e pede para multiplicar cada número da lista por 2.\n",
    "\n",
    "2, 4, 6, 8, 10\n",
    "\n"
   ]
  },
  {
   "cell_type": "markdown",
   "id": "32d67e06",
   "metadata": {},
   "source": [
    "### Exercício 4\n",
    "\n",
    "Qual será a saída do código abaixo?\n",
    "\n",
    "```python\n",
    "\n",
    "nomes = [\"Ana\", \"Carlos\", \"Beatriz\"]\n",
    "\n",
    "print(nomes[0:2])\n",
    "```\n",
    "\n",
    "O código cria uma lista com nomes e solicita para que sejam impressos os números no intervalo de 0 a 2. Beatriz fica de fora porque tecnicamente está depois do 2.\n",
    "\n",
    "Ana, Carlos"
   ]
  },
  {
   "cell_type": "markdown",
   "id": "87c7b5cc",
   "metadata": {},
   "source": [
    "### Exercício 5\n",
    "\n",
    "O que será exibido pelo seguinte código?\n",
    "\n",
    "```python\n",
    "\n",
    "valores = [10, 20, 30]\n",
    "\n",
    "valores.insert(1, 15)\n",
    "\n",
    "print(valores)\n",
    "```\n",
    "\n",
    "A tabela valores é criada e depois é inserido o número 15 na posição 1\n",
    "\n",
    "10, 15, 20, 30"
   ]
  }
 ],
 "metadata": {
  "kernelspec": {
   "display_name": "Python 3",
   "language": "python",
   "name": "python3"
  },
  "language_info": {
   "codemirror_mode": {
    "name": "ipython",
    "version": 3
   },
   "file_extension": ".py",
   "mimetype": "text/x-python",
   "name": "python",
   "nbconvert_exporter": "python",
   "pygments_lexer": "ipython3",
   "version": "3.13.2"
  }
 },
 "nbformat": 4,
 "nbformat_minor": 5
}
