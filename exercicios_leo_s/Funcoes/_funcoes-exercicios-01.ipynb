{
 "cells": [
  {
   "cell_type": "markdown",
   "metadata": {},
   "source": [
    "# Exercícios sobre Funções\n",
    "\n",
    "Dê um nome apropriado para cada função abaixo. Substitua o nome atual da função (x, y, z, etc.) por um nome que descreva o que a função faz."
   ]
  },
  {
   "cell_type": "code",
   "execution_count": 1,
   "metadata": {},
   "outputs": [],
   "source": [
    "# Exercício 1\n",
    "def soma_de_números(a, b):\n",
    "    return a + b\n",
    "\n",
    "# Dê um nome apropriado para a função acima."
   ]
  },
  {
   "cell_type": "code",
   "execution_count": 3,
   "metadata": {},
   "outputs": [],
   "source": [
    "# Exercício 2\n",
    "\n",
    "def valor_mais_alto(lista):\n",
    "    return max(lista)\n",
    "\n",
    "# Dê um nome apropriado para a função acima."
   ]
  },
  {
   "cell_type": "code",
   "execution_count": null,
   "metadata": {},
   "outputs": [],
   "source": [
    "# Exercício 3\n",
    "def texto_em_caixa_alta(texto):\n",
    "    return texto.upper()\n",
    "\n",
    "# Dê um nome apropriado para a função acima."
   ]
  },
  {
   "cell_type": "code",
   "execution_count": 11,
   "metadata": {},
   "outputs": [
    {
     "name": "stdout",
     "output_type": "stream",
     "text": [
      "1\n"
     ]
    }
   ],
   "source": [
    "# Exercício 4\n",
    "\n",
    "def w(n):\n",
    "    return n ** 2\n",
    "\n",
    "\n",
    "# Dê um nome apropriado para a função acima."
   ]
  },
  {
   "cell_type": "code",
   "execution_count": null,
   "metadata": {},
   "outputs": [],
   "source": [
    "# Exercício 5\n",
    "def multiplicacao(a, b):\n",
    "    return a * b\n",
    "\n",
    "# Dê um nome apropriado para a função acima."
   ]
  },
  {
   "cell_type": "code",
   "execution_count": null,
   "metadata": {},
   "outputs": [],
   "source": [
    "# Exercício 6\n",
    "def soma_valores_da_lista(lista):\n",
    "    return sum(lista)\n",
    "\n",
    "# Dê um nome apropriado para a função acima."
   ]
  },
  {
   "cell_type": "code",
   "execution_count": null,
   "metadata": {},
   "outputs": [],
   "source": [
    "# Exercício 7\n",
    "def retorna_texto_reverso(texto):\n",
    "    return texto[::-1]\n",
    "\n",
    "# Dê um nome apropriado para a função acima."
   ]
  },
  {
   "cell_type": "code",
   "execution_count": null,
   "metadata": {},
   "outputs": [],
   "source": [
    "# Exercício 8\n",
    "def verifica_se_eh_par(n):\n",
    "    return n % 2 == 0\n",
    "\n",
    "# Dê um nome apropriado para a função acima."
   ]
  },
  {
   "cell_type": "code",
   "execution_count": null,
   "metadata": {},
   "outputs": [],
   "source": [
    "# Exercício 9\n",
    "def calcula_base_altura_vezes_05(base, altura):\n",
    "    return 0.5 * base * altura\n",
    "\n",
    "# Dê um nome apropriado para a função acima."
   ]
  },
  {
   "cell_type": "code",
   "execution_count": null,
   "metadata": {},
   "outputs": [],
   "source": [
    "# Exercício 10\n",
    "def calcula_temperatura_fahrenhite(temperatura):\n",
    "    return (temperatura * 9/5) + 32\n",
    "\n",
    "# Dê um nome apropriado para a função acima."
   ]
  }
 ],
 "metadata": {
  "kernelspec": {
   "display_name": "Python 3",
   "language": "python",
   "name": "python3"
  },
  "language_info": {
   "codemirror_mode": {
    "name": "ipython",
    "version": 3
   },
   "file_extension": ".py",
   "mimetype": "text/x-python",
   "name": "python",
   "nbconvert_exporter": "python",
   "pygments_lexer": "ipython3",
   "version": "3.13.2"
  }
 },
 "nbformat": 4,
 "nbformat_minor": 5
}
