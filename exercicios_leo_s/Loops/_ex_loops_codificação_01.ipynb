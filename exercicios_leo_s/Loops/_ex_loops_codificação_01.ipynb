{
 "cells": [
  {
   "cell_type": "markdown",
   "metadata": {},
   "source": [
    "### Exercício 1: Contando Caracteres em uma String\n",
    "\n",
    "**Descrição:**\n",
    "Escreva um programa que use um loop `for` para contar quantas vezes cada caractere aparece em uma string fornecida pelo usuário.\n",
    "\n",
    "**Exemplo de Entrada:**\n",
    "```\n",
    "Digite uma string: banana\n",
    "```\n",
    "\n",
    "**Exemplo de Saída:**\n",
    "```\n",
    "O caractere 'b' aparece 1 vez.\n",
    "O caractere 'a' aparece 3 vezes.\n",
    "O caractere 'n' aparece 2 vezes.\n",
    "```"
   ]
  },
  {
   "cell_type": "code",
   "execution_count": 20,
   "metadata": {},
   "outputs": [
    {
     "name": "stdout",
     "output_type": "stream",
     "text": [
      "A palavra oiee contém 104 letras 'z'.\n"
     ]
    }
   ],
   "source": [
    "palavra = input(\"Digite uma palavra: \")\n",
    "\n",
    "contador = 0\n",
    "\n",
    "alfabeto = [\"a\", \"b\", \"c\", \"d\", \"e\", \"f\", \"g\", \"h\", \"i\", \"j\", \"k\", \"l\", \"m\", \"n\", \"o\", \"p\", \"q\", \"r\", \"s\", \"t\", \"u\", \"v\", \"w\", \"x\", \"y\", \"z\"]\n",
    "\n",
    "for letra in palavra:\n",
    "    for letra in alfabeto:\n",
    "        contador += 1  \n",
    "    \n",
    "\n",
    "\n",
    "    \n",
    "\n",
    "print(f\"A palavra {palavra} contém {contador} letras '{letra}'.\")\n",
    "\n"
   ]
  },
  {
   "cell_type": "code",
   "execution_count": null,
   "metadata": {},
   "outputs": [],
   "source": [
    "palavra = input(\"Digite uma palavra: \")\n",
    "\n",
    "contador = 0\n",
    "\n",
    "alfabeto = [\"a\", \"b\", \"c\", \"d\", \"e\", \"f\", \"g\", \"h\", \"i\", \"j\", \"k\", \"l\", \"m\", \"n\", \"o\", \"p\", \"q\", \"r\", \"s\", \"t\", \"u\", \"v\", \"w\", \"x\", \"y\", \"z\"]\n",
    "\n",
    "\n",
    "\n",
    "\n",
    "for letra in palavra:\n",
    "    for numero, letra_alfabeto in enumerate([alfabeto]):\n",
    "        contador += 1\n",
    "\n",
    "\n",
    "print(f\"A palavra contém {palavra } letras '{letra_alfabeto}'.\")\n"
   ]
  },
  {
   "cell_type": "code",
   "execution_count": null,
   "metadata": {},
   "outputs": [],
   "source": [
    "palavra = input(\"Digite uma palavra: \")\n",
    "\n",
    "contador = 0\n",
    "\n",
    "alfabeto = [\"a\", \"b\", \"c\", \"d\", \"e\", \"f\", \"g\", \"h\", \"i\", \"j\", \"k\", \"l\", \"m\", \"n\", \"o\", \"p\", \"q\", \"r\", \"s\", \"t\", \"u\", \"v\", \"w\", \"x\", \"y\", \"z\"]\n",
    "\n",
    "for letra in palavra:\n",
    "    for letra_alfabeto in alfabeto:  \n",
    "        if letra in alfabeto:\n",
    "            contador += 1\n",
    "\n",
    "\n",
    "print(\"A palavra contém\", contador, \"letras 'a'.\")\n",
    "\n",
    "###### NÃO CONSEGUI"
   ]
  },
  {
   "cell_type": "markdown",
   "metadata": {},
   "source": [
    "---\n",
    "\n",
    "### Exercício 2: Encontrando Palavras com Determinado Caractere\n",
    "\n",
    "**Descrição:**\n",
    "Escreva um programa que use um loop `for` para iterar sobre uma lista de palavras e imprima apenas as palavras que contêm a letra \"a\".\n",
    "\n",
    "**Exemplo de Entrada:**\n",
    "```\n",
    "Lista de palavras: [\"casa\", \"carro\", \"bicicleta\", \"moto\"]\n",
    "```\n",
    "\n",
    "**Exemplo de Saída:**\n",
    "```\n",
    "Palavras com a letra 'a': casa, carro, bicicleta\n",
    "```"
   ]
  },
  {
   "cell_type": "code",
   "execution_count": null,
   "metadata": {},
   "outputs": [],
   "source": [
    "lista = [\"casa\", \"carro\", \"banana\", \"moto\"]\n",
    "\n",
    "for i in lista():\n",
    "    if \"a\" in lista():\n",
    "        print(lista[i])\n",
    "\n"
   ]
  },
  {
   "cell_type": "markdown",
   "metadata": {},
   "source": [
    "---\n",
    "\n",
    "### Exercício 3: Revertendo Strings\n",
    "\n",
    "**Descrição:**\n",
    "Escreva um programa que use um loop `while` para reverter uma string fornecida pelo usuário.\n",
    "\n",
    "**Exemplo de Entrada:**\n",
    "```\n",
    "Digite uma string: python\n",
    "```\n",
    "\n",
    "**Exemplo de Saída:**\n",
    "```\n",
    "String revertida: nohtyp\n",
    "```"
   ]
  },
  {
   "cell_type": "code",
   "execution_count": null,
   "metadata": {},
   "outputs": [],
   "source": []
  },
  {
   "cell_type": "markdown",
   "metadata": {},
   "source": [
    "---\n",
    "\n",
    "### Exercício 4: Filtrando Palavras por Comprimento\n",
    "\n",
    "**Descrição:**\n",
    "Escreva um programa que use um loop `for` para iterar sobre uma lista de palavras e imprima apenas as palavras com mais de 5 caracteres.\n",
    "\n",
    "**Exemplo de Entrada:**\n",
    "```\n",
    "Lista de palavras: [\"gato\", \"elefante\", \"cachorro\", \"pato\"]\n",
    "```\n",
    "\n",
    "**Exemplo de Saída:**\n",
    "```\n",
    "Palavras com mais de 5 caracteres: elefante, cachorro\n",
    "```"
   ]
  },
  {
   "cell_type": "code",
   "execution_count": null,
   "metadata": {},
   "outputs": [],
   "source": []
  },
  {
   "cell_type": "markdown",
   "metadata": {},
   "source": [
    "---\n",
    "\n",
    "### Exercício 5: Substituindo Caracteres em uma String\n",
    "\n",
    "**Descrição:**\n",
    "Escreva um programa que use um loop `while` para substituir todas as ocorrências de um caractere em uma string por outro caractere, até que o usuário decida parar.\n",
    "\n",
    "**Exemplo de Entrada:**\n",
    "```\n",
    "Digite uma string: abacaxi\n",
    "Caractere a ser substituído: a\n",
    "Novo caractere: o\n",
    "```\n",
    "\n",
    "**Exemplo de Saída:**\n",
    "```\n",
    "String resultante: obocoxi\n",
    "```\n",
    "\n",
    "**Nota:**\n",
    "O programa deve continuar pedindo substituições até que o usuário digite \"sair\"."
   ]
  },
  {
   "cell_type": "markdown",
   "metadata": {},
   "source": []
  },
  {
   "cell_type": "code",
   "execution_count": null,
   "metadata": {},
   "outputs": [],
   "source": [
    "replace\n"
   ]
  }
 ],
 "metadata": {
  "kernelspec": {
   "display_name": "Python 3",
   "language": "python",
   "name": "python3"
  },
  "language_info": {
   "codemirror_mode": {
    "name": "ipython",
    "version": 3
   },
   "file_extension": ".py",
   "mimetype": "text/x-python",
   "name": "python",
   "nbconvert_exporter": "python",
   "pygments_lexer": "ipython3",
   "version": "3.13.2"
  }
 },
 "nbformat": 4,
 "nbformat_minor": 2
}
