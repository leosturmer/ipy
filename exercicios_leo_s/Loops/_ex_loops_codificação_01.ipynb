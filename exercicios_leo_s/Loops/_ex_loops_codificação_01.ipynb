{
 "cells": [
  {
   "cell_type": "markdown",
   "metadata": {},
   "source": [
    "### Exercício 1: Contando Caracteres em uma String\n",
    "\n",
    "**Descrição:**\n",
    "Escreva um programa que use um loop `for` para contar quantas vezes cada caractere aparece em uma string fornecida pelo usuário.\n",
    "\n",
    "**Exemplo de Entrada:**\n",
    "```\n",
    "Digite uma string: banana\n",
    "```\n",
    "\n",
    "**Exemplo de Saída:**\n",
    "```\n",
    "O caractere 'b' aparece 1 vez.\n",
    "O caractere 'a' aparece 3 vezes.\n",
    "O caractere 'n' aparece 2 vezes.\n",
    "```"
   ]
  },
  {
   "cell_type": "code",
   "execution_count": null,
   "metadata": {},
   "outputs": [],
   "source": [
    "palavra = input(\"Digite uma palavra: \")\n",
    "\n",
    "contagens = {}\n",
    "\n",
    "for letra in palavra:\n",
    "    if letra not in contagens.keys():\n",
    "        contagens[letra] = 1\n",
    "    else:\n",
    "        contagens[letra] = contagens[letra] + 1\n",
    "\n",
    "for chave, valor in contagens.items():\n",
    "    print(f\"A letra {chave} aparece {valor}\")\n",
    "\n",
    "\n"
   ]
  },
  {
   "cell_type": "markdown",
   "metadata": {},
   "source": [
    "---\n",
    "\n",
    "### Exercício 2: Encontrando Palavras com Determinado Caractere\n",
    "\n",
    "**Descrição:**\n",
    "Escreva um programa que use um loop `for` para iterar sobre uma lista de palavras e imprima apenas as palavras que contêm a letra \"a\".\n",
    "\n",
    "**Exemplo de Entrada:**\n",
    "```\n",
    "Lista de palavras: [\"casa\", \"carro\", \"bicicleta\", \"moto\"]\n",
    "```\n",
    "\n",
    "**Exemplo de Saída:**\n",
    "```\n",
    "Palavras com a letra 'a': casa, carro, bicicleta\n",
    "```"
   ]
  },
  {
   "cell_type": "code",
   "execution_count": null,
   "metadata": {},
   "outputs": [],
   "source": [
    "lista_palavras = [\"casa\", \"carro\", \"bicicleta\", \"moto\"]\n",
    "\n",
    "for palavra in lista_palavras:\n",
    "    if 'a' in palavra:\n",
    "        print(palavra)"
   ]
  },
  {
   "cell_type": "code",
   "execution_count": null,
   "metadata": {},
   "outputs": [],
   "source": [
    "lista_palavras = [\"casa\", \"carro\", \"bicicleta\", \"moto\"]\n",
    "print(\"palavras com a letra 'a': \", end=\"\")\n",
    "\n",
    "for palavra in lista_palavras:\n",
    "    if 'a' in palavra:\n",
    "        print(palavra, end=\" \")"
   ]
  },
  {
   "cell_type": "markdown",
   "metadata": {},
   "source": [
    "---\n",
    "\n",
    "### Exercício 3: Revertendo Strings\n",
    "\n",
    "**Descrição:**\n",
    "Escreva um programa que use um loop `while` para reverter uma string fornecida pelo usuário.\n",
    "\n",
    "**Exemplo de Entrada:**\n",
    "```\n",
    "Digite uma string: python\n",
    "```\n",
    "\n",
    "**Exemplo de Saída:**\n",
    "```\n",
    "String revertida: nohtyp\n",
    "```"
   ]
  },
  {
   "cell_type": "code",
   "execution_count": null,
   "metadata": {},
   "outputs": [],
   "source": [
    "### sem usar while\n",
    "\n",
    "palavra = \"python\"\n",
    "\n",
    "print(palavra[::-1])\n"
   ]
  },
  {
   "cell_type": "code",
   "execution_count": null,
   "metadata": {},
   "outputs": [],
   "source": [
    "palavra = \"python\"\n",
    "\n",
    "ic = len(palavra)-1\n",
    "\n",
    "\n",
    "while ic>=0:\n",
    "    print(palavra[ic], end='')\n",
    "    ic -=1 "
   ]
  },
  {
   "cell_type": "code",
   "execution_count": null,
   "metadata": {},
   "outputs": [],
   "source": [
    "palavra = \"python\"\n",
    "\n",
    "ic = -1\n",
    "\n",
    "while ic >= -len(palavra):\n",
    "    print(palavra[ic], end='')\n",
    "    ic -=1 "
   ]
  },
  {
   "cell_type": "markdown",
   "metadata": {},
   "source": [
    "---\n",
    "\n",
    "### Exercício 4: Filtrando Palavras por Comprimento\n",
    "\n",
    "**Descrição:**\n",
    "Escreva um programa que use um loop `for` para iterar sobre uma lista de palavras e imprima apenas as palavras com mais de 5 caracteres.\n",
    "\n",
    "**Exemplo de Entrada:**\n",
    "```\n",
    "Lista de palavras: [\"gato\", \"elefante\", \"cachorro\", \"pato\"]\n",
    "```\n",
    "\n",
    "**Exemplo de Saída:**\n",
    "```\n",
    "Palavras com mais de 5 caracteres: elefante, cachorro\n",
    "```"
   ]
  },
  {
   "cell_type": "code",
   "execution_count": null,
   "metadata": {},
   "outputs": [],
   "source": [
    "bichos = [\"gato\", \"elefante\", \"cachorro\", \"pato\"]\n",
    "\n",
    "# um filtro \n",
    "\n",
    "bichos_filtrados = []\n",
    "\n",
    "for b in bichos:\n",
    "    if len(b) > 5:\n",
    "        bichos_filtrados.append(b)\n",
    "\n",
    "print(bichos_filtrados)\n"
   ]
  },
  {
   "cell_type": "markdown",
   "metadata": {},
   "source": [
    "---\n",
    "\n",
    "### Exercício 5: Substituindo Caracteres em uma String\n",
    "\n",
    "**Descrição:**\n",
    "Escreva um programa que use um loop `while` para substituir todas as ocorrências de um caractere em uma string por outro caractere, até que o usuário decida parar.\n",
    "\n",
    "**Exemplo de Entrada:**\n",
    "```\n",
    "Digite uma string: abacaxi\n",
    "Caractere a ser substituído: a\n",
    "Novo caractere: o\n",
    "\n",
    "```\n",
    "\n",
    "**Exemplo de Saída:**\n",
    "```\n",
    "String resultante: obocoxi\n",
    "```\n",
    "\n",
    "**Nota:**\n",
    "O programa deve continuar pedindo substituições até que o usuário digite \"sair\"."
   ]
  },
  {
   "cell_type": "code",
   "execution_count": 7,
   "metadata": {},
   "outputs": [
    {
     "name": "stdout",
     "output_type": "stream",
     "text": [
      "obocoxi\n",
      "obocoii\n",
      "ibiciii\n",
      "ibiiiii\n"
     ]
    }
   ],
   "source": [
    "palavra = input(\"Digite uma string: \")\n",
    "caractere_a_substituir = input(\"Caractere a ser substituído: \")\n",
    "novo_caractere = input(\"Novo caractere: \")\n",
    "\n",
    "while caractere_a_substituir != \"sair\":\n",
    "\n",
    "    if caractere_a_substituir != \"sair\":\n",
    "        palavra = palavra.replace(caractere_a_substituir, novo_caractere)\n",
    "        print(palavra)\n",
    "\n",
    "        caractere_a_substituir = input(\"Caractere a ser substituído: \")\n",
    "        novo_caractere = input(\"Novo caractere: \")\n",
    "        \n",
    "    else:\n",
    "     print(\"Fim do programa\") \n"
   ]
  }
 ],
 "metadata": {
  "kernelspec": {
   "display_name": "Python 3",
   "language": "python",
   "name": "python3"
  },
  "language_info": {
   "codemirror_mode": {
    "name": "ipython",
    "version": 3
   },
   "file_extension": ".py",
   "mimetype": "text/x-python",
   "name": "python",
   "nbconvert_exporter": "python",
   "pygments_lexer": "ipython3",
   "version": "3.13.2"
  }
 },
 "nbformat": 4,
 "nbformat_minor": 2
}
