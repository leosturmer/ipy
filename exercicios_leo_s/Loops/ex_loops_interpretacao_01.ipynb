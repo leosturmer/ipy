{
 "cells": [
  {
   "cell_type": "markdown",
   "metadata": {},
   "source": [
    "### Exercício 1: Interpretação de Código - Loop `for` com `range`\n",
    "\n",
    "**Código:**\n",
    "```python\n",
    "for i in range(3):\n",
    "    print(f\"Iteração {i}\")\n",
    "```\n",
    "\n",
    "**Instruções:**\n",
    "1. Explique o que o código faz.\n",
    "2. Dê exemplos de saída.\n",
    "3. Modifique o código para que ele imprima \"Iteração 1\", \"Iteração 2\", \"Iteração 3\" (começando de 1).\n",
    "\n",
    "O loop ocorre 3 vezes, cada vez mostrando o texto \"iteração\" com o número. Como os sistemas começam do 0, ele irá imprimir da seguinte forma:\n",
    "Iteração 0\n",
    "Iteração 1\n",
    "Iteração 2"
   ]
  },
  {
   "cell_type": "code",
   "execution_count": 3,
   "metadata": {},
   "outputs": [
    {
     "name": "stdout",
     "output_type": "stream",
     "text": [
      "Iteração 1\n",
      "Iteração 2\n",
      "Iteração 3\n"
     ]
    }
   ],
   "source": [
    "for i in range(1,4):\n",
    "    print(f\"Iteração {i}\")"
   ]
  },
  {
   "cell_type": "markdown",
   "metadata": {},
   "source": [
    "---\n",
    "\n",
    "### Exercício 2: Interpretação de Código - Loop `while` com Condição\n",
    "\n",
    "**Código:**\n",
    "```python\n",
    "contador = 0\n",
    "\n",
    "while contador < 3:\n",
    "    print(f\"Contador: {contador}\")\n",
    "    contador += 1\n",
    "```\n",
    "\n",
    "**Instruções:**\n",
    "1. Explique o que o código faz.\n",
    "2. Dê exemplos de saída.\n",
    "3. Modifique o código para que ele pare quando o contador atingir 5.\n",
    "\n",
    "O código começa com o contador sendo 0. O loop acontece enquanto o contador está menor do que  3, imprimindo o texto e o número. Depoois, ele soma um ao contador.\n",
    "\n",
    "Contador: 0\n",
    "Contador: 1\n",
    "Contador: 2"
   ]
  },
  {
   "cell_type": "code",
   "execution_count": 6,
   "metadata": {},
   "outputs": [
    {
     "name": "stdout",
     "output_type": "stream",
     "text": [
      "Contador: 0\n",
      "Contador: 1\n",
      "Contador: 2\n",
      "Contador: 3\n",
      "Contador: 4\n",
      "Contador: 5\n"
     ]
    }
   ],
   "source": [
    "contador = 0\n",
    "\n",
    "while contador < 6:\n",
    "    print(f\"Contador: {contador}\")\n",
    "    contador += 1"
   ]
  },
  {
   "cell_type": "markdown",
   "metadata": {},
   "source": [
    "---\n",
    "\n",
    "### Exercício 3: Interpretação de Código - Loop `for` com Lista\n",
    "\n",
    "**Código:**\n",
    "```python\n",
    "nomes = [\"Ana\", \"Bruno\", \"Carlos\"]\n",
    "\n",
    "for nome in nomes:\n",
    "    print(f\"Olá, {nome}!\")\n",
    "```\n",
    "\n",
    "**Instruções:**\n",
    "1. Explique o que o código faz.\n",
    "2. Dê exemplos de saída.\n",
    "3. Modifique o código para que ele imprima \"Bem-vindo, {nome}!\" em vez de \"Olá, {nome}!\".\n",
    "\n",
    "O código recebe uma lista de nomes. O nome imprime um \"olá\" com o nome da pessoa para cada pessoa da lista.\n",
    "\n",
    "Olá, ana. Olá, Bruno, Olá, Carlos."
   ]
  },
  {
   "cell_type": "code",
   "execution_count": 9,
   "metadata": {},
   "outputs": [
    {
     "name": "stdout",
     "output_type": "stream",
     "text": [
      "Bem-vindo, Ana!\n",
      "Bem-vindo, Bruno!\n",
      "Bem-vindo, Carlos!\n"
     ]
    }
   ],
   "source": [
    "nomes = [\"Ana\", \"Bruno\", \"Carlos\"]\n",
    "\n",
    "for nome in nomes:\n",
    "    print(f\"Bem-vindo, {nome}!\")"
   ]
  },
  {
   "cell_type": "markdown",
   "metadata": {},
   "source": [
    "---\n",
    "\n",
    "### Exercício 4: Interpretação de Código - Loop `while` com Entrada do Usuário\n",
    "\n",
    "**Código:**\n",
    "```python\n",
    "senha = \"1234\"\n",
    "entrada = \"\"\n",
    "\n",
    "while entrada != senha:\n",
    "    entrada = input(\"Digite a senha: \")\n",
    "    if entrada == senha:\n",
    "        print(\"Acesso permitido.\")\n",
    "    else:\n",
    "        print(\"Senha incorreta. Tente novamente.\")\n",
    "```\n",
    "\n",
    "**Instruções:**\n",
    "1. Explique o que o código faz.\n",
    "2. Dê exemplos de entrada e saída.\n",
    "3. Modifique o código para que ele permita apenas 3 tentativas antes de bloquear o acesso.\n",
    "\n",
    "O código recebe uma variável senha e uma variável entrada. O loop acontece para identificar se a senha está correta e só para quando a senha estiver correta."
   ]
  },
  {
   "cell_type": "code",
   "execution_count": 21,
   "metadata": {},
   "outputs": [
    {
     "name": "stdout",
     "output_type": "stream",
     "text": [
      "Senha incorreta. Tente novamente.\n",
      "Acesso permitido.\n"
     ]
    }
   ],
   "source": [
    "senha = \"1234\"\n",
    "entrada = \"\"\n",
    "tentativas = 0\n",
    "\n",
    "while entrada != senha and tentativas < 3:\n",
    "    entrada = input(\"Digite a senha: \")\n",
    "    if entrada == senha:\n",
    "        print(\"Acesso permitido.\")\n",
    "    else:\n",
    "        print(\"Senha incorreta. Tente novamente.\")\n",
    "        tentativas = tentativas + 1\n"
   ]
  },
  {
   "cell_type": "markdown",
   "metadata": {},
   "source": [
    "---\n",
    "\n",
    "### Exercício 5: Interpretação de Código - Loop `for` com Condicional\n",
    "\n",
    "**Código:**\n",
    "```python\n",
    "for i in range(1, 6):\n",
    "    if i % 2 == 0:\n",
    "        print(f\"{i} é par.\")\n",
    "    else:\n",
    "        print(f\"{i} é ímpar.\")\n",
    "```\n",
    "\n",
    "**Instruções:**\n",
    "1. Explique o que o código faz.\n",
    "2. Dê exemplos de saída.\n",
    "3. Modifique o código para que ele imprima apenas os números pares.\n",
    "\n",
    "O programa é um loop que acontece entre os números 1 e 5. Se o número for divisível por 2, ele mostra que é par. Se não, ele é ímpar."
   ]
  },
  {
   "cell_type": "code",
   "execution_count": 23,
   "metadata": {},
   "outputs": [
    {
     "name": "stdout",
     "output_type": "stream",
     "text": [
      "2 é par.\n",
      "4 é par.\n"
     ]
    }
   ],
   "source": [
    "for i in range(1, 6):\n",
    "    if i % 2 == 0:\n",
    "        print(f\"{i} é par.\")\n",
    "    "
   ]
  }
 ],
 "metadata": {
  "kernelspec": {
   "display_name": "Python 3",
   "language": "python",
   "name": "python3"
  },
  "language_info": {
   "codemirror_mode": {
    "name": "ipython",
    "version": 3
   },
   "file_extension": ".py",
   "mimetype": "text/x-python",
   "name": "python",
   "nbconvert_exporter": "python",
   "pygments_lexer": "ipython3",
   "version": "3.13.2"
  }
 },
 "nbformat": 4,
 "nbformat_minor": 2
}
