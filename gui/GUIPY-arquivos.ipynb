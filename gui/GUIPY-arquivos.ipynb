{
 "cells": [
  {
   "cell_type": "markdown",
   "id": "e008b8b6",
   "metadata": {},
   "source": [
    "# Lição 4: Trabalhando com Arquivos e Dados\n",
    "Nesta lição, você aprenderá como manipular arquivos e armazenar dados usando Python. Vamos explorar como salvar e carregar informações de um arquivo de texto ou CSV para integrá-las a uma aplicação GUI."
   ]
  },
  {
   "cell_type": "markdown",
   "id": "0eadb8dc",
   "metadata": {},
   "source": [
    "## Trabalhando com Arquivos em Python\n",
    "\n",
    "Antes de integrar a manipulação de arquivos com uma interface gráfica, é importante entender como trabalhar com arquivos em Python. Aqui estão exemplos básicos de leitura e escrita de arquivos de texto.\n",
    "\n",
    "### Escrevendo em um Arquivo\n",
    "Para gravar dados em um arquivo, usamos o modo `w` (write). Se o arquivo não existir, ele será criado. Se já existir, seu conteúdo será sobrescrito.\n"
   ]
  },
  {
   "cell_type": "code",
   "execution_count": null,
   "id": "34aff14a",
   "metadata": {},
   "outputs": [],
   "source": [
    "# Exemplo de escrita em um arquivo\n",
    "with open(\"./exemplo.txt\", \"w\") as arquivo:\n",
    "    arquivo.write(\"Olá, este é um exemplo de escrita em arquivo!\\n\")\n",
    "    arquivo.write(\"Python facilita o trabalho com arquivos.\\n\")"
   ]
  },
  {
   "cell_type": "markdown",
   "id": "5b12e5df",
   "metadata": {},
   "source": [
    "\n",
    "### Lendo de um Arquivo\n",
    "Para ler dados de um arquivo, usamos o modo `r` (read). Certifique-se de que o arquivo existe antes de tentar lê-lo."
   ]
  },
  {
   "cell_type": "code",
   "execution_count": null,
   "id": "67aec673",
   "metadata": {},
   "outputs": [
    {
     "name": "stdout",
     "output_type": "stream",
     "text": [
      "Conteúdo do arquivo:\n",
      "Olá, este é um exemplo de escrita em arquivo!\n",
      "Python facilita o trabalho com arquivos.\n",
      "\n"
     ]
    }
   ],
   "source": [
    "# Exemplo de leitura de um arquivo\n",
    "with open(\"exemplo.txt\", \"r\") as arquivo:\n",
    "    conteudo = arquivo.read()\n",
    "    print(\"Conteúdo do arquivo:\")\n",
    "    print(conteudo)"
   ]
  },
  {
   "cell_type": "markdown",
   "id": "c068444e",
   "metadata": {},
   "source": [
    "\n",
    "### Adicionando Dados a um Arquivo\n",
    "Para adicionar dados a um arquivo existente sem sobrescrever seu conteúdo, usamos o modo `a` (append).\n",
    "\n"
   ]
  },
  {
   "cell_type": "code",
   "execution_count": null,
   "id": "1f165260",
   "metadata": {},
   "outputs": [],
   "source": [
    "# Exemplo de adição de dados a um arquivo\n",
    "with open(\"exemplo.txt\", \"a\") as arquivo:\n",
    "    arquivo.write(\"Esta linha foi adicionada ao arquivo existente.\\n\")"
   ]
  },
  {
   "cell_type": "markdown",
   "id": "f4cd636b",
   "metadata": {},
   "source": [
    "## File Dialog e Message Box\n",
    "\n",
    "O módulo `filedialog` e a classe `messagebox` do Tkinter são ferramentas úteis para interagir com o usuário em aplicações GUI. Eles permitem abrir caixas de diálogo para seleção de arquivos e exibir mensagens de alerta, informação ou erro.\n"
   ]
  },
  {
   "cell_type": "markdown",
   "id": "9e478685",
   "metadata": {},
   "source": [
    "\n",
    "### O Módulo `filedialog`\n",
    "O `filedialog` fornece funções para abrir caixas de diálogo que permitem ao usuário selecionar arquivos ou diretórios. As principais funções incluem:\n",
    "\n",
    "- **`asksaveasfilename`**: Abre uma caixa de diálogo para salvar um arquivo. Retorna o caminho do arquivo selecionado.\n",
    "  - **Parâmetros principais:**\n",
    "    - `defaultextension`: Define a extensão padrão do arquivo (ex.: `.txt`).\n",
    "    - `filetypes`: Lista de tipos de arquivos permitidos (ex.: `[('Text files', '*.txt')]`).\n",
    "\n",
    "- **`askopenfilename`**: Abre uma caixa de diálogo para selecionar um arquivo existente. Retorna o caminho do arquivo selecionado.\n",
    "  - **Parâmetros principais:**\n",
    "    - `filetypes`: Lista de tipos de arquivos permitidos.\n",
    "\n",
    "- **`askdirectory`**: Abre uma caixa de diálogo para selecionar um diretório. Retorna o caminho do diretório selecionado.\n"
   ]
  },
  {
   "cell_type": "markdown",
   "id": "584fda97",
   "metadata": {},
   "source": [
    "\n",
    "### A Classe `messagebox`\n",
    "A `messagebox` é usada para exibir mensagens ao usuário. As principais funções incluem:\n",
    "\n",
    "- **`showinfo`**: Exibe uma mensagem de informação.\n",
    "  - **Parâmetros principais:**\n",
    "    - `title`: Título da caixa de mensagem.\n",
    "    - `message`: Texto da mensagem.\n",
    "\n",
    "- **`showwarning`**: Exibe uma mensagem de aviso.\n",
    "  - **Parâmetros principais:**\n",
    "    - `title`: Título da caixa de mensagem.\n",
    "    - `message`: Texto da mensagem.\n",
    "\n",
    "- **`showerror`**: Exibe uma mensagem de erro.\n",
    "  - **Parâmetros principais:**\n",
    "    - `title`: Título da caixa de mensagem.\n",
    "    - `message`: Texto da mensagem.\n",
    "\n",
    "- **`askquestion`**: Exibe uma mensagem com uma pergunta e retorna a resposta (`yes` ou `no`).\n",
    "  - **Parâmetros principais:**\n",
    "    - `title`: Título da caixa de mensagem.\n",
    "    - `message`: Texto da mensagem.\n",
    "\n",
    "Essas ferramentas são essenciais para criar interfaces interativas e amigáveis ao usuário."
   ]
  },
  {
   "cell_type": "markdown",
   "id": "cdba1026",
   "metadata": {},
   "source": [
    "### Exemplo de código"
   ]
  },
  {
   "cell_type": "code",
   "execution_count": 1,
   "id": "3c1de7c9",
   "metadata": {},
   "outputs": [],
   "source": [
    "import tkinter as tk\n",
    "from tkinter import filedialog, messagebox\n",
    "\n",
    "# Função para salvar dados em um arquivo\n",
    "def salvar_dados():\n",
    "    dados = entrada.get()\n",
    "    if dados:\n",
    "        arquivo = filedialog.asksaveasfilename(defaultextension=\".txt\", filetypes=[(\"Text files\", \"*.txt\"), (\"All files\", \"*.*\")])\n",
    "        if arquivo:\n",
    "            with open(arquivo, \"w\") as f:\n",
    "                f.write(dados)\n",
    "            messagebox.showinfo(\"Sucesso\", \"Dados salvos com sucesso!\")\n",
    "    else:\n",
    "        messagebox.showwarning(\"Aviso\", \"Por favor, insira algum texto para salvar.\")\n",
    "\n",
    "# Função para carregar dados de um arquivo\n",
    "def carregar_dados():\n",
    "    arquivo = filedialog.askopenfilename(filetypes=[(\"Text files\", \"*.txt\"), (\"All files\", \"*.*\")])\n",
    "    if arquivo:\n",
    "        with open(arquivo, \"r\") as f:\n",
    "            conteudo = f.read()\n",
    "        entrada.delete(0, tk.END)\n",
    "        entrada.insert(0, conteudo)\n",
    "        messagebox.showinfo(\"Sucesso\", \"Dados carregados com sucesso!\")\n",
    "\n",
    "# Criando a janela principal\n",
    "janela = tk.Tk()\n",
    "janela.title(\"Trabalhando com Arquivos\")\n",
    "\n",
    "# Adicionando widgets\n",
    "rotulo = tk.Label(janela, text=\"Digite algo:\")\n",
    "rotulo.pack(pady=5)\n",
    "\n",
    "entrada = tk.Entry(janela, width=40)\n",
    "entrada.pack(pady=5)\n",
    "\n",
    "botao_salvar = tk.Button(janela, text=\"Salvar\", command=salvar_dados)\n",
    "botao_salvar.pack(pady=5)\n",
    "\n",
    "botao_carregar = tk.Button(janela, text=\"Carregar\", command=carregar_dados)\n",
    "botao_carregar.pack(pady=5)\n",
    "\n",
    "# Iniciando o loop principal da aplicação\n",
    "janela.mainloop()"
   ]
  }
 ],
 "metadata": {
  "kernelspec": {
   "display_name": "Python 3",
   "language": "python",
   "name": "python3"
  },
  "language_info": {
   "codemirror_mode": {
    "name": "ipython",
    "version": 3
   },
   "file_extension": ".py",
   "mimetype": "text/x-python",
   "name": "python",
   "nbconvert_exporter": "python",
   "pygments_lexer": "ipython3",
   "version": "3.13.3"
  }
 },
 "nbformat": 4,
 "nbformat_minor": 5
}
