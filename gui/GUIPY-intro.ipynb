{
 "cells": [
  {
   "cell_type": "markdown",
   "id": "55afe75f",
   "metadata": {},
   "source": [
    "# Lição 1: Introdução ao Tkinter e Criação de Janelas Simples\n",
    "Nesta lição, você aprenderá os fundamentos do Tkinter e como criar uma janela básica. Tkinter é uma biblioteca padrão do Python para criar interfaces gráficas de usuário (GUIs)."
   ]
  },
  {
   "cell_type": "code",
   "execution_count": null,
   "id": "ad2d3276",
   "metadata": {},
   "outputs": [],
   "source": [
    "# Importando a biblioteca Tkinter\n",
    "import tkinter as tk\n",
    "\n",
    "# Criando a janela principal\n",
    "janela = tk.Tk()\n",
    "janela.title(\"Minha Primeira Janela\")\n",
    "\n",
    "\n",
    "# Adicionando um rótulo\n",
    "rotulo = tk.Label(janela, text=\"Bem-vindo ao Tkinter!\")\n",
    "rotulo.pack()\n",
    "\n",
    "# Adicionando um botão\n",
    "botao = tk.Button(janela, text=\"Clique aqui\", command=lambda: print(\"Botão clicado!\"))\n",
    "botao.pack()\n",
    "\n",
    "# Iniciando o loop principal da aplicação\n",
    "janela.mainloop()"
   ]
  },
  {
   "cell_type": "markdown",
   "id": "eb486034",
   "metadata": {},
   "source": [
    "## Exercícios\n",
    "\n",
    "Agora que você aprendeu os fundamentos do Tkinter e como criar uma janela básica, pratique modificando o código exemplo com os seguintes exercícios:\n",
    "\n",
    "1. **Alterar o título da janela:** Modifique o título da janela para \"Minha Primeira Aplicação\".\n",
    "\n",
    "2. **Alterar a cor de fundo da janela:** Modifique a cor de fundo da janela para uma cor de sua escolha. ([pesquise como fazer](https://www.geeksforgeeks.org/how-to-change-a-tkinter-window-background-color/))\n",
    "\n",
    "3. **Alterar o texto do rótulo:** Modifique o texto do rótulo para exibir uma mensagem personalizada."
   ]
  }
 ],
 "metadata": {
  "kernelspec": {
   "display_name": "Python 3",
   "language": "python",
   "name": "python3"
  },
  "language_info": {
   "codemirror_mode": {
    "name": "ipython",
    "version": 3
   },
   "file_extension": ".py",
   "mimetype": "text/x-python",
   "name": "python",
   "nbconvert_exporter": "python",
   "pygments_lexer": "ipython3",
   "version": "3.13.3"
  }
 },
 "nbformat": 4,
 "nbformat_minor": 5
}
