{
 "cells": [
  {
   "cell_type": "markdown",
   "id": "55afe75f",
   "metadata": {},
   "source": [
    "# Lição 1: Introdução ao Tkinter e Criação de Janelas Simples\n",
    "Nesta lição, você aprenderá os fundamentos do Tkinter e como criar uma janela básica. Tkinter é uma biblioteca padrão do Python para criar interfaces gráficas de usuário (GUIs)."
   ]
  },
  {
   "cell_type": "code",
   "execution_count": 5,
   "id": "ad2d3276",
   "metadata": {},
   "outputs": [
    {
     "name": "stdout",
     "output_type": "stream",
     "text": [
      "Presença confirmada\n",
      "Presença confirmada\n",
      "Presença confirmada\n"
     ]
    }
   ],
   "source": [
    "# Importando a biblioteca Tkinter\n",
    "import tkinter as tk\n",
    "\n",
    "def confirmar_presenca():\n",
    "    print(\"Presença confirmada\")\n",
    "\n",
    "\n",
    "def confirmar_presenca():\n",
    "    print(\"Presença confirmada\")\n",
    "\n",
    "\n",
    "# Criando a janela principal\n",
    "janela = tk.Tk()\n",
    "janela.title(\"Lista de Presença\")\n",
    "janela.geometry(\"320x200+500+300\")\n",
    "\n",
    "\n",
    "# Adicionando um rótulo\n",
    "rotulo = tk.Label(janela, text=\"Lista de Presença\")\n",
    "rotulo = tk.Label(janela, text=\"Lista de Presença\")\n",
    "rotulo.pack()\n",
    "\n",
    "# Adicionando um botão\n",
    "botao = tk.Button(janela, text=\"Confirmar Presença\", command=confirmar_presenca)\n",
    "botao = tk.Button(janela, text=\"Confirmar Presença\", command=confirmar_presenca)\n",
    "botao.pack()\n",
    "\n",
    "# Iniciando o loop principal da aplicação\n",
    "janela.mainloop()"
   ]
  },
  {
   "cell_type": "markdown",
   "id": "eb486034",
   "metadata": {},
   "source": [
    "## Exercícios\n",
    "\n",
    "Agora que você aprendeu os fundamentos do Tkinter e como criar uma janela básica, pratique modificando o código exemplo com os seguintes exercícios:\n",
    "\n",
    "1. **Alterar o título da janela:** Modifique o título da janela para \"Minha Primeira Aplicação\".\n",
    "\n",
    "2. **Alterar a cor de fundo da janela:** Modifique a cor de fundo da janela para uma cor de sua escolha. ([pesquise como fazer](https://www.geeksforgeeks.org/how-to-change-a-tkinter-window-background-color/))\n",
    "\n",
    "3. **Alterar o texto do rótulo:** Modifique o texto do rótulo para exibir uma mensagem personalizada."
   ]
  },
  {
   "cell_type": "markdown",
   "id": "6ac714f7",
   "metadata": {},
   "source": [
    "### Extra:\n",
    "\n",
    "Crie um botão que ao ser clicado cria um novo banco de dados SQLite.\n",
    "> `Dica:` reaproveite a função que você criou no início da semana!"
   ]
  },
  {
   "cell_type": "code",
   "execution_count": 6,
   "id": "56ea35f7",
   "metadata": {},
   "outputs": [
    {
     "name": "stdout",
     "output_type": "stream",
     "text": [
      "Banco de dados criado\n",
      "Banco de dados criado\n",
      "Banco de dados criado\n"
     ]
    }
   ],
   "source": [
    "# Importando a biblioteca Tkinter\n",
    "import tkinter as tk\n",
    "\n",
    "def criar_banco_de_dados():\n",
    "    print(\"Banco de dados criado\")\n",
    "\n",
    "# Criando a janela principal\n",
    "janela = tk.Tk()\n",
    "janela.title(\"Lista de Presença\")\n",
    "janela.geometry(\"320x200+500+300\")\n",
    "\n",
    "# Adicionando um rótulo\n",
    "rotulo = tk.Label(janela, text=\"Lista de Presença\")\n",
    "rotulo.pack()\n",
    "\n",
    "# Adicionando um botão\n",
    "botao = tk.Button(janela, text=\"Criar banco de dados\", command=criar_banco_de_dados)\n",
    "botao.pack()\n",
    "\n",
    "# Iniciando o loop principal da aplicação\n",
    "janela.mainloop()"
   ]
  }
 ],
 "metadata": {
  "kernelspec": {
   "display_name": "Python 3",
   "language": "python",
   "name": "python3"
  },
  "language_info": {
   "codemirror_mode": {
    "name": "ipython",
    "version": 3
   },
   "file_extension": ".py",
   "mimetype": "text/x-python",
   "name": "python",
   "nbconvert_exporter": "python",
   "pygments_lexer": "ipython3",
   "version": "3.13.3"
  }
 },
 "nbformat": 4,
 "nbformat_minor": 5
}
