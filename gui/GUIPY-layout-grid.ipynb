{
 "cells": [
  {
   "cell_type": "markdown",
   "id": "ea276a3d",
   "metadata": {},
   "source": [
    "# Lição 3b: Gerenciamento de Layouts - grid\n",
    "\n",
    "O gerenciador de layout `grid` organiza os widgets em uma grade (linhas e colunas). Ele é ideal para criar interfaces mais estruturadas e alinhadas.\n",
    "\n",
    "## Parâmetros Principais\n",
    "- **row:** Define a linha onde o widget será colocado (começando em 0).\n",
    "- **column:** Define a coluna onde o widget será colocado (começando em 0).\n",
    "- **padx e pady:** Adicionam espaçamento horizontal e vertical ao redor do widget.\n",
    "- **sticky:** Define o alinhamento do widget dentro da célula (`n`, `s`, `e`, `w` para norte, sul, leste, oeste).\n",
    "\n",
    "## Exemplo de Código\n",
    "\n"
   ]
  },
  {
   "cell_type": "code",
   "execution_count": 1,
   "id": "405a9b40",
   "metadata": {},
   "outputs": [],
   "source": [
    "import tkinter as tk\n",
    "\n",
    "# Criando a janela principal\n",
    "janela = tk.Tk()\n",
    "janela.title(\"Exemplo do grid\")\n",
    "\n",
    "# Adicionando widgets com o gerenciador grid\n",
    "label1 = tk.Label(janela, text=\"Linha 0, Coluna 0\", bg=\"lightblue\")\n",
    "label1.grid(row=0, column=0, padx=10, pady=10)\n",
    "\n",
    "label2 = tk.Label(janela, text=\"Linha 0, Coluna 1\", bg=\"lightgreen\")\n",
    "label2.grid(row=0, column=1, padx=10, pady=10)\n",
    "\n",
    "label3 = tk.Label(janela, text=\"Linha 1, Coluna 0\", bg=\"lightyellow\")\n",
    "label3.grid(row=1, column=0, padx=10, pady=10)\n",
    "\n",
    "label4 = tk.Label(janela, text=\"Linha 1, Coluna 1\", bg=\"lightpink\")\n",
    "label4.grid(row=1, column=1, padx=10, pady=10)\n",
    "\n",
    "# Iniciando o loop principal da aplicação\n",
    "janela.mainloop()"
   ]
  },
  {
   "cell_type": "markdown",
   "id": "11559bc7",
   "metadata": {},
   "source": [
    "## Centralizando Colunas de Labels\n",
    "\n",
    "Para centralizar duas colunas de labels em uma janela do Tkinter, podemos usar o gerenciador de layout `grid` com o parâmetro `sticky` configurado para alinhar os widgets ao centro. Além disso, podemos ajustar o espaçamento entre as colunas e linhas usando os parâmetros `padx` e `pady`.\n",
    "\n",
    "### Exemplo de Código\n"
   ]
  },
  {
   "cell_type": "code",
   "execution_count": 2,
   "id": "d049aaf9",
   "metadata": {},
   "outputs": [],
   "source": [
    "import tkinter as tk\n",
    "\n",
    "# Criando a janela principal\n",
    "janela = tk.Tk()\n",
    "janela.title(\"Centralizando Colunas\")\n",
    "\n",
    "# Adicionando labels na primeira coluna\n",
    "label1_col1 = tk.Label(janela, text=\"Coluna 1 - Linha 1\", bg=\"lightblue\")\n",
    "label1_col1.grid(row=0, column=0, padx=20, pady=10, sticky=\"ew\")\n",
    "\n",
    "label2_col1 = tk.Label(janela, text=\"Coluna 1 - Linha 2\", bg=\"lightgreen\")\n",
    "label2_col1.grid(row=1, column=0, padx=20, pady=10, sticky=\"ew\")\n",
    "\n",
    "# Adicionando labels na segunda coluna\n",
    "label1_col2 = tk.Label(janela, text=\"Coluna 2 - Linha 1\", bg=\"lightyellow\")\n",
    "label1_col2.grid(row=0, column=1, padx=20, pady=10, sticky=\"ew\")\n",
    "\n",
    "label2_col2 = tk.Label(janela, text=\"Coluna 2 - Linha 2\", bg=\"lightpink\")\n",
    "label2_col2.grid(row=1, column=1, padx=20, pady=10, sticky=\"ew\")\n",
    "\n",
    "# Configurando as colunas para expandirem igualmente\n",
    "janela.grid_columnconfigure(0, weight=1)\n",
    "janela.grid_columnconfigure(1, weight=1)\n",
    "\n",
    "# Iniciando o loop principal da aplicação\n",
    "janela.mainloop()\n"
   ]
  },
  {
   "cell_type": "markdown",
   "id": "34baafdb",
   "metadata": {},
   "source": [
    "## O Método grid_columnconfigure()\n",
    "\n",
    "O método `grid_columnconfigure()` é usado para configurar o comportamento das colunas em um layout gerenciado pelo `grid`. Ele permite ajustar propriedades como o peso (weight) e o espaçamento das colunas.\n",
    "\n",
    "### Parâmetros Principais\n",
    "- **index:** O índice da coluna a ser configurada (começando em 0).\n",
    "- **weight:** Define a proporção de expansão da coluna quando a janela é redimensionada. Colunas com maior peso expandem mais.\n",
    "- **minsize:** Define o tamanho mínimo da coluna em pixels.\n",
    "- **pad:** Adiciona espaçamento extra ao redor da coluna.\n",
    "\n",
    "### Exemplo de Uso\n",
    "No exemplo abaixo, configuramos duas colunas para expandirem igualmente quando a janela é redimensionada:\n",
    "\n"
   ]
  },
  {
   "cell_type": "code",
   "execution_count": 3,
   "id": "03d287e2",
   "metadata": {},
   "outputs": [],
   "source": [
    "\n",
    "import tkinter as tk\n",
    "\n",
    "# Criando a janela principal\n",
    "janela = tk.Tk()\n",
    "janela.title(\"Exemplo grid_columnconfigure\")\n",
    "\n",
    "# Adicionando widgets\n",
    "label1 = tk.Label(janela, text=\"Coluna 1\", bg=\"lightblue\")\n",
    "label1.grid(row=0, column=0, padx=10, pady=10)\n",
    "\n",
    "label2 = tk.Label(janela, text=\"Coluna 2\", bg=\"lightgreen\")\n",
    "label2.grid(row=0, column=1, padx=10, pady=10)\n",
    "\n",
    "# Configurando as colunas para expandirem desigualmente\n",
    "janela.grid_columnconfigure(0, weight=1)\n",
    "janela.grid_columnconfigure(1, weight=2)\n",
    "\n",
    "# Iniciando o loop principal da aplicação\n",
    "janela.mainloop()\n"
   ]
  },
  {
   "cell_type": "markdown",
   "id": "bc499114",
   "metadata": {},
   "source": [
    "## Exercícios com o Gerenciador de Layout 'grid'\n",
    "\n",
    "Agora que você aprendeu como usar o gerenciador de layout `grid`, pratique com os seguintes exercícios:\n",
    "\n",
    "1. **Criar uma Calculadora Simples:**\n",
    "   - Crie uma interface de calculadora com botões para números (0-9) e operações básicas (+, -, *, /).\n",
    "   - Organize os botões em uma grade de 4x4 usando o `grid`.\n",
    "\n",
    "2. **Formulário de Cadastro:**\n",
    "   - Crie um formulário com campos para \"Nome\", \"E-mail\" e \"Senha\".\n",
    "   - Adicione rótulos e entradas organizados em duas colunas.\n",
    "   - Inclua um botão \"Enviar\" alinhado ao centro.\n",
    "\n",
    "3. **Tabuleiro de Jogo da Velha:**\n",
    "   - Crie um tabuleiro de 3x3 para um jogo da velha.\n",
    "   - Use botões para representar as células do tabuleiro.\n",
    "   - Organize os botões em uma grade de 3x3 e configure o tamanho para que fiquem quadrados."
   ]
  }
 ],
 "metadata": {
  "kernelspec": {
   "display_name": "Python 3",
   "language": "python",
   "name": "python3"
  },
  "language_info": {
   "codemirror_mode": {
    "name": "ipython",
    "version": 3
   },
   "file_extension": ".py",
   "mimetype": "text/x-python",
   "name": "python",
   "nbconvert_exporter": "python",
   "pygments_lexer": "ipython3",
   "version": "3.13.3"
  }
 },
 "nbformat": 4,
 "nbformat_minor": 5
}
