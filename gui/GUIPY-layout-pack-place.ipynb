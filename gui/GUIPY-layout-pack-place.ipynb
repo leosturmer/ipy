{
 "cells": [
  {
   "cell_type": "markdown",
   "id": "a8418efb",
   "metadata": {},
   "source": [
    "# Lição 3a: Gerenciamento de Layouts - pack e place\n",
    "\n",
    "Nesta lição, você aprenderá como organizar widgets em uma janela do Tkinter utilizando os gerenciadores de layout `pack` e `place`. Esses gerenciadores permitem criar interfaces mais organizadas e funcionais.\n",
    "\n",
    "Na próxima lição trabalhemos com o gerenciador de layout `grid`."
   ]
  },
  {
   "cell_type": "code",
   "execution_count": 2,
   "id": "b84048d6",
   "metadata": {},
   "outputs": [],
   "source": [
    "import tkinter as tk\n",
    "\n",
    "# Criando a janela principal\n",
    "janela = tk.Tk()\n",
    "janela.title(\"Gerenciamento de Layouts\")\n",
    "\n",
    "# Usando o gerenciador de layout pack\n",
    "frame1 = tk.Frame(janela, bg=\"lightblue\")\n",
    "frame1.pack(fill=tk.BOTH, expand=True)\n",
    "label1 = tk.Label(frame1, text=\"Usando pack\", bg=\"lightblue\")\n",
    "label1.pack(pady=10)\n",
    "\n",
    "# Usando o gerenciador de layout grid\n",
    "frame2 = tk.Frame(janela, bg=\"lightgreen\")\n",
    "frame2.pack(fill=tk.BOTH, expand=True)\n",
    "label2 = tk.Label(frame2, text=\"Usando grid\", bg=\"lightgreen\")\n",
    "label2.grid(row=0, column=0, padx=10, pady=10)\n",
    "botao2 = tk.Button(frame2, text=\"Botão Grid\")\n",
    "botao2.grid(row=0, column=1, padx=10, pady=10)\n",
    "\n",
    "# Usando o gerenciador de layout place\n",
    "frame3 = tk.Frame(janela, bg=\"lightyellow\")\n",
    "frame3.pack(fill=tk.BOTH, expand=True)\n",
    "label3 = tk.Label(frame3, text=\"Usando place\", bg=\"lightyellow\")\n",
    "label3.place(x=50, y=20)\n",
    "botao3 = tk.Button(frame3, text=\"Botão Place\")\n",
    "botao3.place(x=150, y=20)\n",
    "\n",
    "# Iniciando o loop principal da aplicação\n",
    "janela.mainloop()"
   ]
  },
  {
   "cell_type": "markdown",
   "id": "6e2c33ad",
   "metadata": {},
   "source": [
    "## O Gerenciador de Layout 'pack'\n",
    "\n",
    "O gerenciador de layout `pack` organiza os widgets em uma direção específica (vertical ou horizontal) dentro de um contêiner. Ele é útil para layouts simples e permite alinhar widgets ao topo, fundo, esquerda ou direita do contêiner.\n",
    "\n",
    "### Parâmetros Principais\n",
    "- **side:** Define o lado onde o widget será colocado (`top`, `bottom`, `left`, `right`).\n",
    "- **fill:** Permite que o widget preencha o espaço disponível (`x`, `y`, `both`).\n",
    "- **expand:** Se `True`, o widget expande para ocupar o espaço extra disponível.\n",
    "\n",
    "### Exemplo de Código"
   ]
  },
  {
   "cell_type": "code",
   "execution_count": 1,
   "id": "c5bbcf65",
   "metadata": {},
   "outputs": [],
   "source": [
    "import tkinter as tk\n",
    "\n",
    "# Criando a janela principal\n",
    "janela = tk.Tk()\n",
    "janela.title(\"Exemplo do pack\")\n",
    "\n",
    "# Adicionando widgets com o gerenciador pack\n",
    "label_top = tk.Label(janela, text=\"Topo\", bg=\"lightblue\")\n",
    "label_top.pack(side=\"top\", fill=\"x\")\n",
    "\n",
    "label_bottom = tk.Label(janela, text=\"Fundo\", bg=\"lightgreen\")\n",
    "label_bottom.pack(side=\"bottom\", fill=\"x\")\n",
    "\n",
    "label_left = tk.Label(janela, text=\"Esquerda\", bg=\"lightyellow\")\n",
    "label_left.pack(side=\"left\", fill=\"y\")\n",
    "\n",
    "label_right = tk.Label(janela, text=\"Direita\", bg=\"lightpink\")\n",
    "label_right.pack(side=\"right\", fill=\"y\")\n",
    "\n",
    "# Iniciando o loop principal da aplicação\n",
    "janela.mainloop()"
   ]
  },
  {
   "cell_type": "markdown",
   "id": "476b3ed7",
   "metadata": {},
   "source": [
    "## O Gerenciador de Layout 'place'\n",
    "\n",
    "O gerenciador de layout `place` permite posicionar widgets em coordenadas absolutas ou relativas dentro de um contêiner. Ele é útil para layouts que exigem controle preciso sobre a posição dos elementos.\n",
    "\n",
    "### Parâmetros Principais\n",
    "- **x e y:** Coordenadas absolutas (em pixels) para posicionar o widget.\n",
    "- **relx e rely:** Coordenadas relativas (valores entre 0.0 e 1.0) para posicionar o widget com base no tamanho do contêiner.\n",
    "- **anchor:** Define o ponto de ancoragem do widget (ex.: `n`, `s`, `e`, `w`, `center`).\n",
    "- **width e height:** Define a largura e altura do widget (em pixels).\n",
    "- **relwidth e relheight:** Define a largura e altura relativas do widget (valores entre 0.0 e 1.0).\n",
    "\n",
    "### Exemplo de Código\n"
   ]
  },
  {
   "cell_type": "code",
   "execution_count": 14,
   "id": "8467a822",
   "metadata": {},
   "outputs": [],
   "source": [
    "\n",
    "import tkinter as tk\n",
    "\n",
    "# Criando a janela principal\n",
    "janela = tk.Tk()\n",
    "janela.title(\"Exemplo do place\")\n",
    "janela.geometry(\"300x200\")\n",
    "\n",
    "# Adicionando widgets com o gerenciador place\n",
    "label1 = tk.Label(janela, text=\"Absoluto\", bg=\"lightblue\")\n",
    "label1.place(x=50, y=50)\n",
    "\n",
    "label2 = tk.Label(janela, text=\"Relativo\", bg=\"lightgreen\")\n",
    "label2.place(relx=0.5, rely=0.5, anchor=\"center\")\n",
    "\n",
    "# Iniciando o loop principal da aplicação\n",
    "janela.mainloop()\n"
   ]
  },
  {
   "cell_type": "markdown",
   "id": "8c3d7464",
   "metadata": {},
   "source": [
    "## Exercícios com o Gerenciador de Layout 'pack'\n",
    "\n",
    "1. **Criar uma Interface de Boas-Vindas:**\n",
    "   - Crie uma janela com três rótulos empilhados verticalmente usando o `pack`.\n",
    "   - Use o parâmetro `side` para alinhar os rótulos ao topo, centro e fundo da janela.\n",
    "\n",
    "2. **Organizar Botões Horizontalmente:**\n",
    "   - Crie uma janela com três botões organizados horizontalmente.\n",
    "   - Use o parâmetro `side` para alinhar os botões à esquerda, centro e direita.\n",
    "\n",
    "## Exercícios com o Gerenciador de Layout 'place'\n",
    "\n",
    "1. **Criar um Formulário com Posição Absoluta:**\n",
    "   - Crie uma janela com dois rótulos e dois campos de entrada posicionados em coordenadas absolutas.\n",
    "   - Use o `place` para definir as posições exatas dos widgets.\n",
    "\n",
    "2. **Criar um Layout Responsivo com Posição Relativa:**\n",
    "   - Crie uma janela com três botões posicionados em coordenadas relativas.\n",
    "   - Use os parâmetros `relx` e `rely` para centralizar os botões na janela."
   ]
  }
 ],
 "metadata": {
  "kernelspec": {
   "display_name": "Python 3",
   "language": "python",
   "name": "python3"
  },
  "language_info": {
   "codemirror_mode": {
    "name": "ipython",
    "version": 3
   },
   "file_extension": ".py",
   "mimetype": "text/x-python",
   "name": "python",
   "nbconvert_exporter": "python",
   "pygments_lexer": "ipython3",
   "version": "3.13.3"
  }
 },
 "nbformat": 4,
 "nbformat_minor": 5
}
