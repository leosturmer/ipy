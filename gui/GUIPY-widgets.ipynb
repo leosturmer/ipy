{
 "cells": [
  {
   "cell_type": "markdown",
   "id": "89b59c42",
   "metadata": {},
   "source": [
    "# Lição 2: Interatividade com Widgets\n",
    "Nesta lição, você aprenderá como capturar eventos e interagir com widgets no Tkinter. Vamos explorar como usar entradas de texto e botões para criar uma interface interativa."
   ]
  },
  {
   "cell_type": "code",
   "execution_count": 1,
   "id": "180cd1fc",
   "metadata": {},
   "outputs": [],
   "source": [
    "import tkinter as tk\n",
    "from tkinter import messagebox\n",
    "\n",
    "# Criando a janela principal\n",
    "janela = tk.Tk()\n",
    "janela.title(\"Interatividade com Widgets\")\n",
    "\n",
    "# Adicionando um rótulo\n",
    "rotulo = tk.Label(janela, text=\"Digite seu nome:\")\n",
    "rotulo.pack()\n",
    "\n",
    "# Adicionando uma entrada de texto\n",
    "entrada = tk.Entry(janela)\n",
    "entrada.pack()\n",
    "\n",
    "# Função para exibir mensagem\n",
    "def exibir_mensagem():\n",
    "    nome = entrada.get()\n",
    "    if nome:\n",
    "        messagebox.showinfo(\"Saudação\", f\"Olá, {nome}!\")\n",
    "    else:\n",
    "        messagebox.showwarning(\"Aviso\", \"Por favor, insira seu nome.\")\n",
    "\n",
    "# Adicionando um botão\n",
    "botao = tk.Button(janela, text=\"Enviar\", command=exibir_mensagem)\n",
    "botao.pack()\n",
    "\n",
    "# Iniciando o loop principal da aplicação\n",
    "janela.mainloop()"
   ]
  },
  {
   "cell_type": "markdown",
   "id": "841f6d57",
   "metadata": {},
   "source": [
    "## Entendendo o Padrão Observer/Observable e Callbacks\n",
    "\n",
    "O padrão Observer/Observable é amplamente utilizado em interfaces gráficas para gerenciar eventos. No contexto do Tkinter, o botão (`Button`) utiliza esse padrão para lidar com cliques. Aqui está como ele funciona:\n",
    "\n",
    "1. **Observable (Observável):** O botão é o elemento que \"emite\" eventos, como um clique do usuário.\n",
    "2. **Observer (Observador):** O código que você escreve para reagir ao evento é o \"observador\".\n",
    "3. **Callback:** A função que você passa para o botão (no caso, `exibir_mensagem`) é chamada de callback. Ela será executada automaticamente quando o evento ocorrer.\n",
    "\n",
    "Esse padrão permite que você separe a lógica de interface gráfica da lógica de negócios, tornando o código mais modular e fácil de manter."
   ]
  },
  {
   "cell_type": "markdown",
   "id": "ee0f1869",
   "metadata": {},
   "source": [
    "## Exercícios\n",
    "\n",
    "Agora que você aprendeu a criar interatividade com widgets no Tkinter, pratique modificando o código exemplo com os seguintes exercícios:\n",
    "\n",
    "1. **Alterar o texto do botão:** Modifique o texto do botão para \"Saudar\" e ajuste a mensagem exibida para incluir a hora atual.\n",
    "\n",
    "2. **Adicionar um campo de sobrenome:** Adicione um segundo campo de entrada para o sobrenome e ajuste a mensagem para exibir o nome completo do usuário.\n",
    "\n",
    "3. **Limpar o campo de entrada após o envio:** Após exibir a mensagem de saudação, limpe os campos de entrada para que o usuário possa inserir novos dados."
   ]
  }
 ],
 "metadata": {
  "kernelspec": {
   "display_name": "Python 3",
   "language": "python",
   "name": "python3"
  },
  "language_info": {
   "codemirror_mode": {
    "name": "ipython",
    "version": 3
   },
   "file_extension": ".py",
   "mimetype": "text/x-python",
   "name": "python",
   "nbconvert_exporter": "python",
   "pygments_lexer": "ipython3",
   "version": "3.13.3"
  }
 },
 "nbformat": 4,
 "nbformat_minor": 5
}
